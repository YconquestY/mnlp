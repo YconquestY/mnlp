{
  "cells": [
    {
      "cell_type": "markdown",
      "metadata": {
        "id": "view-in-github",
        "colab_type": "text"
      },
      "source": [
        "<a href=\"https://colab.research.google.com/github/YconquestY/mnlp/blob/main/Exercises/Week%201/Week-1-Solutions.ipynb\" target=\"_parent\"><img src=\"https://colab.research.google.com/assets/colab-badge.svg\" alt=\"Open In Colab\"/></a>"
      ]
    },
    {
      "cell_type": "markdown",
      "metadata": {
        "id": "nN-ANsnRz-oA"
      },
      "source": [
        "# 📚 Exercise Session - Week 1\n",
        "\n",
        "Welcome to Week 1 exercise session of **CS-552: Modern NLP**!\n",
        "\n",
        "> **What will be covered:**\n",
        "> 1. [**TASK A:** Training a word embedding model](#1)\n",
        "> 2. [**TASK B:** Word embedding similarity](#2)\n",
        "> 3. [**TASK C:** Sentiment analysis of movie reviews](#3)\n",
        "\n",
        "> **By the end of the session you will be able to:**\n",
        "> - ✅  train from scratch a word embedding model\n",
        "> - ✅  load and use pre-trained word embeddings\n",
        "> - ✅  perform word embedding analogies and understand their implicit biases\n",
        "> - ✅  train and evaluate a sentiment classifier using word embeddings"
      ]
    },
    {
      "cell_type": "markdown",
      "metadata": {
        "id": "LDuR0cO0z-oB"
      },
      "source": [
        "## Intro - Word embedding models\n",
        "\n",
        "#### 🔵 What?\n",
        "A word embedding is a learned representation for text where words that have the same meaning have a similar representation. It is this approach to representing words and documents that may be considered one of the key breakthroughs of deep learning on challenging natural language processing problems.\n",
        "\n",
        "\n",
        "#### 🟡 How?\n",
        "There are different versions of word embeddings depending on the way the embeddings are learned.\n",
        "- Some of the models learn a focus word given the neighboring words that surround them\n",
        "- Some other models learn the neighboring words given the focus word.\n",
        "- Some other word embedding models try to derive the relationship between the words from global statistics of the words in the overall corpus.\n",
        "\n",
        "\n",
        "#### 🟣 Why?\n",
        "Word embedding in NLP is an important concept that is used for representing words for text analysis in the form of real-valued vectors. It is an advancement in NLP that has improved the ability of computers to understand text-based content in a better way.\n",
        "\n",
        "\n",
        "#### A little bit of history on word embeddings\n",
        "In 2013, Tomas Mikolov et al. developed an algorithm for learning word embeddings called **Word2vec** [[paper](https://arxiv.org/abs/1301.3781)][[code](https://code.google.com/archive/p/word2vec/)]. This algorithm uses a shallow neural network to learn word vectors so that the representation of each word of a given corpus is good at predicting its own contexts (Skip-Gram) or vice versa (CBOW).\n",
        "\n",
        "One year after the publication of Word2vec, Pennington et al. developed a new algorithm for learning word embeddings called **GloVe** [[paper](https://nlp.stanford.edu/pubs/glove.pdf)][[code](https://github.com/stanfordnlp/GloVe)]. This algorithm is based on the observation that word relationships can be recovered from the co-occurrence statistics of any (large enough) corpus."
      ]
    },
    {
      "cell_type": "markdown",
      "metadata": {
        "id": "riNDORHKz-oC"
      },
      "source": [
        "<div style=\"padding:8px 0 8px 15px;border-left:3px solid orange;background-color:#F3F3F3;color:#424242;\">\n",
        "    <h3>Goal of today's exercise</h3><br/>\n",
        "In this exercise session, we will use both variants of these word embedding models (Word2Vec and GloVe) for our experiments.\n",
        "For the first part, we will train from scratch a Word2vec model with different datasets. In the second part, we will load pre-trained Word2vec and GloVe embeddings and test them on how well they capture concept similarity among words. Finally, for the last part, we will train a simple sentiment analysis classifier with these pre-trained embeddings as we discussed in the lecture.\n",
        "\n",
        "You will need to fill in all the missing pieces of code. For each one, you will be given a 🎯 `Goal` guidance that explains the steps you need to implement and a 💻 `API` reference with the functions or classes you can use to achieve each goal.\n",
        "\n",
        "</div>"
      ]
    },
    {
      "cell_type": "code",
      "execution_count": null,
      "metadata": {
        "id": "D7pcyWg0z-oC"
      },
      "outputs": [],
      "source": [
        "#!conda create -n \"mnlp_exercises\" python=3.10.11 --yes"
      ]
    },
    {
      "cell_type": "code",
      "execution_count": null,
      "metadata": {
        "id": "YJ0jQCLUz-oC"
      },
      "outputs": [],
      "source": [
        "#!conda activate mnlp_exercises"
      ]
    },
    {
      "cell_type": "code",
      "execution_count": 2,
      "metadata": {
        "collapsed": true,
        "id": "eGvB6wl7z-oD",
        "outputId": "bc70b2ba-d35b-4d81-c726-70f1fed6c792",
        "colab": {
          "base_uri": "https://localhost:8080/"
        }
      },
      "outputs": [
        {
          "output_type": "stream",
          "name": "stdout",
          "text": [
            "Requirement already satisfied: pandas in /usr/local/lib/python3.11/dist-packages (2.2.2)\n",
            "Collecting gensim\n",
            "  Downloading gensim-4.3.3-cp311-cp311-manylinux_2_17_x86_64.manylinux2014_x86_64.whl.metadata (8.1 kB)\n",
            "Requirement already satisfied: numpy in /usr/local/lib/python3.11/dist-packages (2.0.2)\n",
            "Requirement already satisfied: matplotlib in /usr/local/lib/python3.11/dist-packages (3.10.0)\n",
            "Requirement already satisfied: seaborn in /usr/local/lib/python3.11/dist-packages (0.13.2)\n",
            "Requirement already satisfied: scikit-learn in /usr/local/lib/python3.11/dist-packages (1.6.1)\n",
            "Requirement already satisfied: tqdm in /usr/local/lib/python3.11/dist-packages (4.67.1)\n",
            "Requirement already satisfied: torch in /usr/local/lib/python3.11/dist-packages (2.6.0+cu124)\n",
            "Collecting torchmetrics\n",
            "  Downloading torchmetrics-1.7.1-py3-none-any.whl.metadata (21 kB)\n",
            "Requirement already satisfied: python-dateutil>=2.8.2 in /usr/local/lib/python3.11/dist-packages (from pandas) (2.8.2)\n",
            "Requirement already satisfied: pytz>=2020.1 in /usr/local/lib/python3.11/dist-packages (from pandas) (2025.2)\n",
            "Requirement already satisfied: tzdata>=2022.7 in /usr/local/lib/python3.11/dist-packages (from pandas) (2025.2)\n",
            "Collecting numpy\n",
            "  Downloading numpy-1.26.4-cp311-cp311-manylinux_2_17_x86_64.manylinux2014_x86_64.whl.metadata (61 kB)\n",
            "\u001b[2K     \u001b[90m━━━━━━━━━━━━━━━━━━━━━━━━━━━━━━━━━━━━━━━━\u001b[0m \u001b[32m61.0/61.0 kB\u001b[0m \u001b[31m2.9 MB/s\u001b[0m eta \u001b[36m0:00:00\u001b[0m\n",
            "\u001b[?25hCollecting scipy<1.14.0,>=1.7.0 (from gensim)\n",
            "  Downloading scipy-1.13.1-cp311-cp311-manylinux_2_17_x86_64.manylinux2014_x86_64.whl.metadata (60 kB)\n",
            "\u001b[2K     \u001b[90m━━━━━━━━━━━━━━━━━━━━━━━━━━━━━━━━━━━━━━━━\u001b[0m \u001b[32m60.6/60.6 kB\u001b[0m \u001b[31m5.2 MB/s\u001b[0m eta \u001b[36m0:00:00\u001b[0m\n",
            "\u001b[?25hRequirement already satisfied: smart-open>=1.8.1 in /usr/local/lib/python3.11/dist-packages (from gensim) (7.1.0)\n",
            "Requirement already satisfied: contourpy>=1.0.1 in /usr/local/lib/python3.11/dist-packages (from matplotlib) (1.3.1)\n",
            "Requirement already satisfied: cycler>=0.10 in /usr/local/lib/python3.11/dist-packages (from matplotlib) (0.12.1)\n",
            "Requirement already satisfied: fonttools>=4.22.0 in /usr/local/lib/python3.11/dist-packages (from matplotlib) (4.57.0)\n",
            "Requirement already satisfied: kiwisolver>=1.3.1 in /usr/local/lib/python3.11/dist-packages (from matplotlib) (1.4.8)\n",
            "Requirement already satisfied: packaging>=20.0 in /usr/local/lib/python3.11/dist-packages (from matplotlib) (24.2)\n",
            "Requirement already satisfied: pillow>=8 in /usr/local/lib/python3.11/dist-packages (from matplotlib) (11.1.0)\n",
            "Requirement already satisfied: pyparsing>=2.3.1 in /usr/local/lib/python3.11/dist-packages (from matplotlib) (3.2.3)\n",
            "Requirement already satisfied: joblib>=1.2.0 in /usr/local/lib/python3.11/dist-packages (from scikit-learn) (1.4.2)\n",
            "Requirement already satisfied: threadpoolctl>=3.1.0 in /usr/local/lib/python3.11/dist-packages (from scikit-learn) (3.6.0)\n",
            "Requirement already satisfied: filelock in /usr/local/lib/python3.11/dist-packages (from torch) (3.18.0)\n",
            "Requirement already satisfied: typing-extensions>=4.10.0 in /usr/local/lib/python3.11/dist-packages (from torch) (4.13.1)\n",
            "Requirement already satisfied: networkx in /usr/local/lib/python3.11/dist-packages (from torch) (3.4.2)\n",
            "Requirement already satisfied: jinja2 in /usr/local/lib/python3.11/dist-packages (from torch) (3.1.6)\n",
            "Requirement already satisfied: fsspec in /usr/local/lib/python3.11/dist-packages (from torch) (2025.3.2)\n",
            "Collecting nvidia-cuda-nvrtc-cu12==12.4.127 (from torch)\n",
            "  Downloading nvidia_cuda_nvrtc_cu12-12.4.127-py3-none-manylinux2014_x86_64.whl.metadata (1.5 kB)\n",
            "Collecting nvidia-cuda-runtime-cu12==12.4.127 (from torch)\n",
            "  Downloading nvidia_cuda_runtime_cu12-12.4.127-py3-none-manylinux2014_x86_64.whl.metadata (1.5 kB)\n",
            "Collecting nvidia-cuda-cupti-cu12==12.4.127 (from torch)\n",
            "  Downloading nvidia_cuda_cupti_cu12-12.4.127-py3-none-manylinux2014_x86_64.whl.metadata (1.6 kB)\n",
            "Collecting nvidia-cudnn-cu12==9.1.0.70 (from torch)\n",
            "  Downloading nvidia_cudnn_cu12-9.1.0.70-py3-none-manylinux2014_x86_64.whl.metadata (1.6 kB)\n",
            "Collecting nvidia-cublas-cu12==12.4.5.8 (from torch)\n",
            "  Downloading nvidia_cublas_cu12-12.4.5.8-py3-none-manylinux2014_x86_64.whl.metadata (1.5 kB)\n",
            "Collecting nvidia-cufft-cu12==11.2.1.3 (from torch)\n",
            "  Downloading nvidia_cufft_cu12-11.2.1.3-py3-none-manylinux2014_x86_64.whl.metadata (1.5 kB)\n",
            "Collecting nvidia-curand-cu12==10.3.5.147 (from torch)\n",
            "  Downloading nvidia_curand_cu12-10.3.5.147-py3-none-manylinux2014_x86_64.whl.metadata (1.5 kB)\n",
            "Collecting nvidia-cusolver-cu12==11.6.1.9 (from torch)\n",
            "  Downloading nvidia_cusolver_cu12-11.6.1.9-py3-none-manylinux2014_x86_64.whl.metadata (1.6 kB)\n",
            "Collecting nvidia-cusparse-cu12==12.3.1.170 (from torch)\n",
            "  Downloading nvidia_cusparse_cu12-12.3.1.170-py3-none-manylinux2014_x86_64.whl.metadata (1.6 kB)\n",
            "Requirement already satisfied: nvidia-cusparselt-cu12==0.6.2 in /usr/local/lib/python3.11/dist-packages (from torch) (0.6.2)\n",
            "Requirement already satisfied: nvidia-nccl-cu12==2.21.5 in /usr/local/lib/python3.11/dist-packages (from torch) (2.21.5)\n",
            "Requirement already satisfied: nvidia-nvtx-cu12==12.4.127 in /usr/local/lib/python3.11/dist-packages (from torch) (12.4.127)\n",
            "Collecting nvidia-nvjitlink-cu12==12.4.127 (from torch)\n",
            "  Downloading nvidia_nvjitlink_cu12-12.4.127-py3-none-manylinux2014_x86_64.whl.metadata (1.5 kB)\n",
            "Requirement already satisfied: triton==3.2.0 in /usr/local/lib/python3.11/dist-packages (from torch) (3.2.0)\n",
            "Requirement already satisfied: sympy==1.13.1 in /usr/local/lib/python3.11/dist-packages (from torch) (1.13.1)\n",
            "Requirement already satisfied: mpmath<1.4,>=1.1.0 in /usr/local/lib/python3.11/dist-packages (from sympy==1.13.1->torch) (1.3.0)\n",
            "Collecting lightning-utilities>=0.8.0 (from torchmetrics)\n",
            "  Downloading lightning_utilities-0.14.3-py3-none-any.whl.metadata (5.6 kB)\n",
            "Requirement already satisfied: setuptools in /usr/local/lib/python3.11/dist-packages (from lightning-utilities>=0.8.0->torchmetrics) (75.2.0)\n",
            "Requirement already satisfied: six>=1.5 in /usr/local/lib/python3.11/dist-packages (from python-dateutil>=2.8.2->pandas) (1.17.0)\n",
            "Requirement already satisfied: wrapt in /usr/local/lib/python3.11/dist-packages (from smart-open>=1.8.1->gensim) (1.17.2)\n",
            "Requirement already satisfied: MarkupSafe>=2.0 in /usr/local/lib/python3.11/dist-packages (from jinja2->torch) (3.0.2)\n",
            "Downloading gensim-4.3.3-cp311-cp311-manylinux_2_17_x86_64.manylinux2014_x86_64.whl (26.7 MB)\n",
            "\u001b[2K   \u001b[90m━━━━━━━━━━━━━━━━━━━━━━━━━━━━━━━━━━━━━━━━\u001b[0m \u001b[32m26.7/26.7 MB\u001b[0m \u001b[31m19.2 MB/s\u001b[0m eta \u001b[36m0:00:00\u001b[0m\n",
            "\u001b[?25hDownloading numpy-1.26.4-cp311-cp311-manylinux_2_17_x86_64.manylinux2014_x86_64.whl (18.3 MB)\n",
            "\u001b[2K   \u001b[90m━━━━━━━━━━━━━━━━━━━━━━━━━━━━━━━━━━━━━━━━\u001b[0m \u001b[32m18.3/18.3 MB\u001b[0m \u001b[31m102.3 MB/s\u001b[0m eta \u001b[36m0:00:00\u001b[0m\n",
            "\u001b[?25hDownloading nvidia_cublas_cu12-12.4.5.8-py3-none-manylinux2014_x86_64.whl (363.4 MB)\n",
            "\u001b[2K   \u001b[90m━━━━━━━━━━━━━━━━━━━━━━━━━━━━━━━━━━━━━━━━\u001b[0m \u001b[32m363.4/363.4 MB\u001b[0m \u001b[31m3.9 MB/s\u001b[0m eta \u001b[36m0:00:00\u001b[0m\n",
            "\u001b[?25hDownloading nvidia_cuda_cupti_cu12-12.4.127-py3-none-manylinux2014_x86_64.whl (13.8 MB)\n",
            "\u001b[2K   \u001b[90m━━━━━━━━━━━━━━━━━━━━━━━━━━━━━━━━━━━━━━━━\u001b[0m \u001b[32m13.8/13.8 MB\u001b[0m \u001b[31m78.7 MB/s\u001b[0m eta \u001b[36m0:00:00\u001b[0m\n",
            "\u001b[?25hDownloading nvidia_cuda_nvrtc_cu12-12.4.127-py3-none-manylinux2014_x86_64.whl (24.6 MB)\n",
            "\u001b[2K   \u001b[90m━━━━━━━━━━━━━━━━━━━━━━━━━━━━━━━━━━━━━━━━\u001b[0m \u001b[32m24.6/24.6 MB\u001b[0m \u001b[31m49.8 MB/s\u001b[0m eta \u001b[36m0:00:00\u001b[0m\n",
            "\u001b[?25hDownloading nvidia_cuda_runtime_cu12-12.4.127-py3-none-manylinux2014_x86_64.whl (883 kB)\n",
            "\u001b[2K   \u001b[90m━━━━━━━━━━━━━━━━━━━━━━━━━━━━━━━━━━━━━━━━\u001b[0m \u001b[32m883.7/883.7 kB\u001b[0m \u001b[31m26.2 MB/s\u001b[0m eta \u001b[36m0:00:00\u001b[0m\n",
            "\u001b[?25hDownloading nvidia_cudnn_cu12-9.1.0.70-py3-none-manylinux2014_x86_64.whl (664.8 MB)\n",
            "\u001b[2K   \u001b[90m━━━━━━━━━━━━━━━━━━━━━━━━━━━━━━━━━━━━━━━━\u001b[0m \u001b[32m664.8/664.8 MB\u001b[0m \u001b[31m2.8 MB/s\u001b[0m eta \u001b[36m0:00:00\u001b[0m\n",
            "\u001b[?25hDownloading nvidia_cufft_cu12-11.2.1.3-py3-none-manylinux2014_x86_64.whl (211.5 MB)\n",
            "\u001b[2K   \u001b[90m━━━━━━━━━━━━━━━━━━━━━━━━━━━━━━━━━━━━━━━━\u001b[0m \u001b[32m211.5/211.5 MB\u001b[0m \u001b[31m5.4 MB/s\u001b[0m eta \u001b[36m0:00:00\u001b[0m\n",
            "\u001b[?25hDownloading nvidia_curand_cu12-10.3.5.147-py3-none-manylinux2014_x86_64.whl (56.3 MB)\n",
            "\u001b[2K   \u001b[90m━━━━━━━━━━━━━━━━━━━━━━━━━━━━━━━━━━━━━━━━\u001b[0m \u001b[32m56.3/56.3 MB\u001b[0m \u001b[31m14.2 MB/s\u001b[0m eta \u001b[36m0:00:00\u001b[0m\n",
            "\u001b[?25hDownloading nvidia_cusolver_cu12-11.6.1.9-py3-none-manylinux2014_x86_64.whl (127.9 MB)\n",
            "\u001b[2K   \u001b[90m━━━━━━━━━━━━━━━━━━━━━━━━━━━━━━━━━━━━━━━━\u001b[0m \u001b[32m127.9/127.9 MB\u001b[0m \u001b[31m7.5 MB/s\u001b[0m eta \u001b[36m0:00:00\u001b[0m\n",
            "\u001b[?25hDownloading nvidia_cusparse_cu12-12.3.1.170-py3-none-manylinux2014_x86_64.whl (207.5 MB)\n",
            "\u001b[2K   \u001b[90m━━━━━━━━━━━━━━━━━━━━━━━━━━━━━━━━━━━━━━━━\u001b[0m \u001b[32m207.5/207.5 MB\u001b[0m \u001b[31m5.5 MB/s\u001b[0m eta \u001b[36m0:00:00\u001b[0m\n",
            "\u001b[?25hDownloading nvidia_nvjitlink_cu12-12.4.127-py3-none-manylinux2014_x86_64.whl (21.1 MB)\n",
            "\u001b[2K   \u001b[90m━━━━━━━━━━━━━━━━━━━━━━━━━━━━━━━━━━━━━━━━\u001b[0m \u001b[32m21.1/21.1 MB\u001b[0m \u001b[31m83.7 MB/s\u001b[0m eta \u001b[36m0:00:00\u001b[0m\n",
            "\u001b[?25hDownloading torchmetrics-1.7.1-py3-none-any.whl (961 kB)\n",
            "\u001b[2K   \u001b[90m━━━━━━━━━━━━━━━━━━━━━━━━━━━━━━━━━━━━━━━━\u001b[0m \u001b[32m961.5/961.5 kB\u001b[0m \u001b[31m60.3 MB/s\u001b[0m eta \u001b[36m0:00:00\u001b[0m\n",
            "\u001b[?25hDownloading lightning_utilities-0.14.3-py3-none-any.whl (28 kB)\n",
            "Downloading scipy-1.13.1-cp311-cp311-manylinux_2_17_x86_64.manylinux2014_x86_64.whl (38.6 MB)\n",
            "\u001b[2K   \u001b[90m━━━━━━━━━━━━━━━━━━━━━━━━━━━━━━━━━━━━━━━━\u001b[0m \u001b[32m38.6/38.6 MB\u001b[0m \u001b[31m16.2 MB/s\u001b[0m eta \u001b[36m0:00:00\u001b[0m\n",
            "\u001b[?25hInstalling collected packages: nvidia-nvjitlink-cu12, nvidia-curand-cu12, nvidia-cufft-cu12, nvidia-cuda-runtime-cu12, nvidia-cuda-nvrtc-cu12, nvidia-cuda-cupti-cu12, nvidia-cublas-cu12, numpy, lightning-utilities, scipy, nvidia-cusparse-cu12, nvidia-cudnn-cu12, nvidia-cusolver-cu12, gensim, torchmetrics\n",
            "  Attempting uninstall: nvidia-nvjitlink-cu12\n",
            "    Found existing installation: nvidia-nvjitlink-cu12 12.5.82\n",
            "    Uninstalling nvidia-nvjitlink-cu12-12.5.82:\n",
            "      Successfully uninstalled nvidia-nvjitlink-cu12-12.5.82\n",
            "  Attempting uninstall: nvidia-curand-cu12\n",
            "    Found existing installation: nvidia-curand-cu12 10.3.6.82\n",
            "    Uninstalling nvidia-curand-cu12-10.3.6.82:\n",
            "      Successfully uninstalled nvidia-curand-cu12-10.3.6.82\n",
            "  Attempting uninstall: nvidia-cufft-cu12\n",
            "    Found existing installation: nvidia-cufft-cu12 11.2.3.61\n",
            "    Uninstalling nvidia-cufft-cu12-11.2.3.61:\n",
            "      Successfully uninstalled nvidia-cufft-cu12-11.2.3.61\n",
            "  Attempting uninstall: nvidia-cuda-runtime-cu12\n",
            "    Found existing installation: nvidia-cuda-runtime-cu12 12.5.82\n",
            "    Uninstalling nvidia-cuda-runtime-cu12-12.5.82:\n",
            "      Successfully uninstalled nvidia-cuda-runtime-cu12-12.5.82\n",
            "  Attempting uninstall: nvidia-cuda-nvrtc-cu12\n",
            "    Found existing installation: nvidia-cuda-nvrtc-cu12 12.5.82\n",
            "    Uninstalling nvidia-cuda-nvrtc-cu12-12.5.82:\n",
            "      Successfully uninstalled nvidia-cuda-nvrtc-cu12-12.5.82\n",
            "  Attempting uninstall: nvidia-cuda-cupti-cu12\n",
            "    Found existing installation: nvidia-cuda-cupti-cu12 12.5.82\n",
            "    Uninstalling nvidia-cuda-cupti-cu12-12.5.82:\n",
            "      Successfully uninstalled nvidia-cuda-cupti-cu12-12.5.82\n",
            "  Attempting uninstall: nvidia-cublas-cu12\n",
            "    Found existing installation: nvidia-cublas-cu12 12.5.3.2\n",
            "    Uninstalling nvidia-cublas-cu12-12.5.3.2:\n",
            "      Successfully uninstalled nvidia-cublas-cu12-12.5.3.2\n",
            "  Attempting uninstall: numpy\n",
            "    Found existing installation: numpy 2.0.2\n",
            "    Uninstalling numpy-2.0.2:\n",
            "      Successfully uninstalled numpy-2.0.2\n",
            "  Attempting uninstall: scipy\n",
            "    Found existing installation: scipy 1.14.1\n",
            "    Uninstalling scipy-1.14.1:\n",
            "      Successfully uninstalled scipy-1.14.1\n",
            "  Attempting uninstall: nvidia-cusparse-cu12\n",
            "    Found existing installation: nvidia-cusparse-cu12 12.5.1.3\n",
            "    Uninstalling nvidia-cusparse-cu12-12.5.1.3:\n",
            "      Successfully uninstalled nvidia-cusparse-cu12-12.5.1.3\n",
            "  Attempting uninstall: nvidia-cudnn-cu12\n",
            "    Found existing installation: nvidia-cudnn-cu12 9.3.0.75\n",
            "    Uninstalling nvidia-cudnn-cu12-9.3.0.75:\n",
            "      Successfully uninstalled nvidia-cudnn-cu12-9.3.0.75\n",
            "  Attempting uninstall: nvidia-cusolver-cu12\n",
            "    Found existing installation: nvidia-cusolver-cu12 11.6.3.83\n",
            "    Uninstalling nvidia-cusolver-cu12-11.6.3.83:\n",
            "      Successfully uninstalled nvidia-cusolver-cu12-11.6.3.83\n",
            "Successfully installed gensim-4.3.3 lightning-utilities-0.14.3 numpy-1.26.4 nvidia-cublas-cu12-12.4.5.8 nvidia-cuda-cupti-cu12-12.4.127 nvidia-cuda-nvrtc-cu12-12.4.127 nvidia-cuda-runtime-cu12-12.4.127 nvidia-cudnn-cu12-9.1.0.70 nvidia-cufft-cu12-11.2.1.3 nvidia-curand-cu12-10.3.5.147 nvidia-cusolver-cu12-11.6.1.9 nvidia-cusparse-cu12-12.3.1.170 nvidia-nvjitlink-cu12-12.4.127 scipy-1.13.1 torchmetrics-1.7.1\n"
          ]
        }
      ],
      "source": [
        "!pip3 install pandas gensim numpy matplotlib seaborn scikit-learn tqdm torch torchmetrics"
      ]
    },
    {
      "cell_type": "code",
      "execution_count": 2,
      "metadata": {
        "id": "xGSxMRGvz-oD"
      },
      "outputs": [],
      "source": [
        "# imported libraries for this exercise\n",
        "import pandas as pd\n",
        "import numpy as np\n",
        "from gensim.test.utils import common_texts\n",
        "from gensim.utils import tokenize\n",
        "from gensim.models import Word2Vec\n",
        "import gensim.downloader\n",
        "import torch\n",
        "from torch import nn\n",
        "from torch.utils.data import Dataset, DataLoader\n",
        "from torchmetrics.classification import BinaryAccuracy\n",
        "from sklearn.manifold import TSNE\n",
        "import matplotlib.pyplot as plt\n",
        "import seaborn as sns\n",
        "from tqdm import tqdm"
      ]
    },
    {
      "cell_type": "markdown",
      "metadata": {
        "id": "HME_538wz-oD"
      },
      "source": [
        "<a name=\"1\"></a>\n",
        "## 1. Training a word embedding model from stratch\n",
        "\n",
        "In this part, you will train a model to learn vector representations of words and more specifically, we will train the word2vec model.\n",
        "To train the model we will use the Gensim library which is a free open-source Python library for representing documents as semantic vectors.\n",
        "\n",
        "> **Gensim** is designed to process raw, unstructured digital texts (“plain text”) using unsupervised machine learning algorithms. The algorithms in Gensim, such as Word2Vec, FastText, Latent Semantic Indexing (LSI, LSA, LsiModel), Latent Dirichlet Allocation (LDA, LdaModel) etc, automatically discover the semantic structure of documents by examining statistical co-occurrence patterns within a corpus of training documents. These algorithms are unsupervised, which means no human input is necessary – you only need a corpus of plain text documents.\n",
        ">\n",
        "> You can discover all Gensim functionalities [here](https://radimrehurek.com/gensim/index.html).\n",
        "\n",
        "To train your embedding model, you will need to instantiate Word2Vec and pass the data to the model to train with. We essentially need to pass on a list of lists, where each list within the main list contains a set of tokens from a user review. Word2Vec uses all these tokens to internally create a vocabulary.\n",
        "\n",
        "**Data:** We will train our embedding model using a toy dataset that is provided by the Gensim library. You can use the dataset under the following path `gensim.test.utils.common_texts`."
      ]
    },
    {
      "cell_type": "code",
      "execution_count": 3,
      "metadata": {
        "id": "uY76FvLNz-oD",
        "outputId": "6e96d0f9-2f16-48a0-81d2-c31b2e07948c",
        "colab": {
          "base_uri": "https://localhost:8080/"
        }
      },
      "outputs": [
        {
          "output_type": "execute_result",
          "data": {
            "text/plain": [
              "[['human', 'interface', 'computer'],\n",
              " ['survey', 'user', 'computer', 'system', 'response', 'time'],\n",
              " ['eps', 'user', 'interface', 'system'],\n",
              " ['system', 'human', 'system', 'eps'],\n",
              " ['user', 'response', 'time'],\n",
              " ['trees'],\n",
              " ['graph', 'trees'],\n",
              " ['graph', 'minors', 'trees'],\n",
              " ['graph', 'minors', 'survey']]"
            ]
          },
          "metadata": {},
          "execution_count": 3
        }
      ],
      "source": [
        "# bag of words for each sentence in toy dataset (imported from the gensim library in cell 2)\n",
        "common_texts"
      ]
    },
    {
      "cell_type": "markdown",
      "metadata": {
        "id": "g4JVIvBVz-oE"
      },
      "source": [
        "#### Train a Gensim Word2Vec model"
      ]
    },
    {
      "cell_type": "markdown",
      "metadata": {
        "id": "In1V-vJpz-oE"
      },
      "source": [
        "<div style=\"padding:8px 0 8px 15px;border-left:3px solid #03befc;background-color:#F3F3F3;color:#424242;\">\n",
        "    \n",
        "- 🎯 **Goal:** Train with `common_texts` dataset a Gensim word2vec model.<br>\n",
        "\n",
        "- 💻  **API:** You can use `gensim.models.Word2Vec` class.\n",
        "</div>"
      ]
    },
    {
      "cell_type": "code",
      "execution_count": 4,
      "metadata": {
        "id": "N0hF4sZDz-oE"
      },
      "outputs": [],
      "source": [
        "#instantiate and train model\n",
        "w2v_model = Word2Vec(sentences=common_texts,\n",
        "                     vector_size=10,\n",
        "                     window=5,\n",
        "                     min_count=1,\n",
        "                     workers=4)"
      ]
    },
    {
      "cell_type": "code",
      "execution_count": 5,
      "metadata": {
        "id": "3C-BXOYtz-oE",
        "outputId": "7675a518-3203-4bd2-9e91-317fd74fefd6",
        "colab": {
          "base_uri": "https://localhost:8080/"
        }
      },
      "outputs": [
        {
          "output_type": "execute_result",
          "data": {
            "text/plain": [
              "{'system': 0,\n",
              " 'graph': 1,\n",
              " 'user': 2,\n",
              " 'trees': 3,\n",
              " 'eps': 4,\n",
              " 'minors': 5,\n",
              " 'response': 6,\n",
              " 'time': 7,\n",
              " 'survey': 8,\n",
              " 'computer': 9,\n",
              " 'interface': 10,\n",
              " 'human': 11}"
            ]
          },
          "metadata": {},
          "execution_count": 5
        }
      ],
      "source": [
        "# dict with vocabulary key indexes\n",
        "words = w2v_model.wv.key_to_index\n",
        "words"
      ]
    },
    {
      "cell_type": "markdown",
      "metadata": {
        "id": "VZRTwdwPz-oE"
      },
      "source": [
        "#### Find word similarities"
      ]
    },
    {
      "cell_type": "code",
      "execution_count": 6,
      "metadata": {
        "id": "Zza5pH6rz-oE",
        "outputId": "017974c3-1fc5-4423-8b8d-64612f274067",
        "colab": {
          "base_uri": "https://localhost:8080/"
        }
      },
      "outputs": [
        {
          "output_type": "stream",
          "name": "stdout",
          "text": [
            "The vector length of the word is 10.\n"
          ]
        }
      ],
      "source": [
        "# explore embeddings\n",
        "vector = w2v_model.wv['computer']  # get numpy vector of a word\n",
        "print('The vector length of the word is {}.'.format(len(vector)))"
      ]
    },
    {
      "cell_type": "markdown",
      "metadata": {
        "id": "mrQa1DkKz-oF"
      },
      "source": [
        "<div style=\"padding:8px 0 8px 15px;border-left:3px solid #03befc;background-color:#F3F3F3;color:#424242;\">\n",
        "\n",
        "- 🎯 **Goal:** Use the trained word2vec model to find most similar words for token _\"computer\"_.\n",
        "- 💻 **API:** You can use Gensim's `.most_similar` function.\n",
        "\n",
        "</div>"
      ]
    },
    {
      "cell_type": "code",
      "execution_count": 7,
      "metadata": {
        "id": "7QvFvEdDz-oF",
        "outputId": "78e172b5-b68a-444c-a1b4-354cfaab55a6",
        "colab": {
          "base_uri": "https://localhost:8080/"
        }
      },
      "outputs": [
        {
          "output_type": "execute_result",
          "data": {
            "text/plain": [
              "[('minors', 0.2914133667945862),\n",
              " ('user', 0.05575648695230484),\n",
              " ('eps', 0.04264765977859497)]"
            ]
          },
          "metadata": {},
          "execution_count": 7
        }
      ],
      "source": [
        "# print most similar words\n",
        "sims = w2v_model.wv.most_similar('computer', topn=3)  # get other similar words\n",
        "sims"
      ]
    },
    {
      "cell_type": "markdown",
      "metadata": {
        "id": "I21a6fJtz-oF"
      },
      "source": [
        "<div style=\"padding:8px 0 8px 15px;border-left:3px solid gray;background-color:#F3F3F3;color:#424242;\">\n",
        "\n",
        "#### Play around with initial settings\n",
        "\n",
        "- Re-train the model with different datasets ( [Wikipedia](https://radimrehurek.com/gensim/corpora/wikicorpus.html), [Opinosis](https://radimrehurek.com/gensim/corpora/opinosiscorpus.html) ) and vector sizes and run similarity with different top-n. How would you comment on the results?\n",
        "- Think about the limitations of the Word2vec approach.\n",
        "\n",
        "</div>"
      ]
    },
    {
      "cell_type": "code",
      "execution_count": 8,
      "metadata": {
        "id": "kjcRaSAXz-oF"
      },
      "outputs": [],
      "source": [
        "# example solution for Wikipedia\n",
        "from gensim.test.utils import datapath, get_tmpfile\n",
        "from gensim.corpora import WikiCorpus, MmCorpus\n",
        "\n",
        "path_to_wiki_dump = datapath(\"enwiki-latest-pages-articles1.xml-p000000010p000030302-shortened.bz2\")\n",
        "corpus_path = get_tmpfile(\"wiki-corpus.mm\")\n",
        "\n",
        "wiki = WikiCorpus(path_to_wiki_dump)  # create word->word_id mapping, ~8h on full wiki\n",
        "MmCorpus.serialize(corpus_path, wiki)  # another 8h, creates a file in MatrixMarket format and mapping"
      ]
    },
    {
      "cell_type": "code",
      "execution_count": 9,
      "metadata": {
        "id": "uNWJ3AD1z-oF"
      },
      "outputs": [],
      "source": [
        "wiki_sentences = list(wiki.get_texts())"
      ]
    },
    {
      "cell_type": "code",
      "execution_count": 11,
      "metadata": {
        "id": "O3zSMkr5z-oF",
        "outputId": "a9a5ab6d-cb6e-4ae4-98d8-1eaf70adb312",
        "colab": {
          "base_uri": "https://localhost:8080/"
        }
      },
      "outputs": [
        {
          "output_type": "execute_result",
          "data": {
            "text/plain": [
              "[['anarchism',\n",
              "  'is',\n",
              "  'political',\n",
              "  'philosophy',\n",
              "  'that',\n",
              "  'advocates',\n",
              "  'self',\n",
              "  'governed',\n",
              "  'societies',\n",
              "  'based',\n",
              "  'on',\n",
              "  'voluntary',\n",
              "  'institutions',\n",
              "  'these',\n",
              "  'are',\n",
              "  'often',\n",
              "  'described',\n",
              "  'as',\n",
              "  'stateless',\n",
              "  'societies',\n",
              "  'although',\n",
              "  'several',\n",
              "  'authors',\n",
              "  'have',\n",
              "  'defined',\n",
              "  'them',\n",
              "  'more',\n",
              "  'specifically',\n",
              "  'as',\n",
              "  'institutions',\n",
              "  'based',\n",
              "  'on',\n",
              "  'non',\n",
              "  'hierarchical',\n",
              "  'free',\n",
              "  'associations',\n",
              "  'anarchism',\n",
              "  'considers',\n",
              "  'the',\n",
              "  'state',\n",
              "  'to',\n",
              "  'be',\n",
              "  'undesirable',\n",
              "  'unnecessary',\n",
              "  'and',\n",
              "  'harmful',\n",
              "  'while',\n",
              "  'anti',\n",
              "  'statism',\n",
              "  'is',\n",
              "  'central',\n",
              "  'anarchism',\n",
              "  'entails',\n",
              "  'opposing',\n",
              "  'authority',\n",
              "  'or',\n",
              "  'hierarchical',\n",
              "  'organisation',\n",
              "  'in',\n",
              "  'the',\n",
              "  'conduct',\n",
              "  'of',\n",
              "  'all',\n",
              "  'human',\n",
              "  'relations',\n",
              "  'including',\n",
              "  'but',\n",
              "  'not',\n",
              "  'limited',\n",
              "  'to',\n",
              "  'the',\n",
              "  'state',\n",
              "  'system',\n",
              "  'anarchism',\n",
              "  'draws',\n",
              "  'on',\n",
              "  'many',\n",
              "  'currents',\n",
              "  'of',\n",
              "  'thought',\n",
              "  'and',\n",
              "  'strategy',\n",
              "  'anarchism',\n",
              "  'does',\n",
              "  'not',\n",
              "  'offer',\n",
              "  'fixed',\n",
              "  'body',\n",
              "  'of',\n",
              "  'doctrine',\n",
              "  'from',\n",
              "  'single',\n",
              "  'particular',\n",
              "  'world',\n",
              "  'view',\n",
              "  'instead',\n",
              "  'fluxing',\n",
              "  'and',\n",
              "  'flowing',\n",
              "  'as',\n",
              "  'philosophy',\n",
              "  'many',\n",
              "  'types',\n",
              "  'and',\n",
              "  'traditions',\n",
              "  'of',\n",
              "  'anarchism',\n",
              "  'exist',\n",
              "  'not',\n",
              "  'all',\n",
              "  'of',\n",
              "  'which',\n",
              "  'are',\n",
              "  'mutually',\n",
              "  'exclusive',\n",
              "  'anarchist',\n",
              "  'schools',\n",
              "  'of',\n",
              "  'thought',\n",
              "  'can',\n",
              "  'differ',\n",
              "  'fundamentally',\n",
              "  'supporting',\n",
              "  'anything',\n",
              "  'from',\n",
              "  'extreme',\n",
              "  'individualism',\n",
              "  'to',\n",
              "  'complete',\n",
              "  'collectivism',\n",
              "  'strains',\n",
              "  'of',\n",
              "  'anarchism',\n",
              "  'have',\n",
              "  'often',\n",
              "  'been',\n",
              "  'divided',\n",
              "  'into',\n",
              "  'the',\n",
              "  'categories',\n",
              "  'of',\n",
              "  'social',\n",
              "  'and',\n",
              "  'individualist',\n",
              "  'anarchism',\n",
              "  'or',\n",
              "  'similar',\n",
              "  'dual',\n",
              "  'classifications',\n",
              "  'anarchism',\n",
              "  'is',\n",
              "  'usually',\n",
              "  'considered',\n",
              "  'radical',\n",
              "  'left',\n",
              "  'wing',\n",
              "  'ideology',\n",
              "  'and',\n",
              "  'much',\n",
              "  'of',\n",
              "  'anarchist',\n",
              "  'economics',\n",
              "  'and',\n",
              "  'anarchist',\n",
              "  'legal',\n",
              "  'philosophy',\n",
              "  'reflect',\n",
              "  'anti',\n",
              "  'authoritarian',\n",
              "  'interpretations',\n",
              "  'of',\n",
              "  'communism',\n",
              "  'collectivism',\n",
              "  'syndicalism',\n",
              "  'mutualism',\n",
              "  'or',\n",
              "  'participatory',\n",
              "  'economics',\n",
              "  'etymology',\n",
              "  'and',\n",
              "  'terminology',\n",
              "  'the',\n",
              "  'term',\n",
              "  'anarchism',\n",
              "  'is',\n",
              "  'compound',\n",
              "  'word',\n",
              "  'composed',\n",
              "  'from',\n",
              "  'the',\n",
              "  'word',\n",
              "  'anarchy',\n",
              "  'and',\n",
              "  'the',\n",
              "  'suffix',\n",
              "  'ism',\n",
              "  'themselves',\n",
              "  'derived',\n",
              "  'respectively',\n",
              "  'from',\n",
              "  'the',\n",
              "  'greek',\n",
              "  'anarchy',\n",
              "  'from',\n",
              "  'anarchos',\n",
              "  'meaning',\n",
              "  'one',\n",
              "  'without',\n",
              "  'rulers',\n",
              "  'from',\n",
              "  'the',\n",
              "  'privative',\n",
              "  'prefix',\n",
              "  'ἀν',\n",
              "  'an',\n",
              "  'without',\n",
              "  'and',\n",
              "  'archos',\n",
              "  'leader',\n",
              "  'ruler',\n",
              "  'cf',\n",
              "  'archon',\n",
              "  'or',\n",
              "  'arkhē',\n",
              "  'authority',\n",
              "  'sovereignty',\n",
              "  'realm',\n",
              "  'magistracy',\n",
              "  'and',\n",
              "  'the',\n",
              "  'suffix',\n",
              "  'or',\n",
              "  'ismos',\n",
              "  'isma',\n",
              "  'from',\n",
              "  'the',\n",
              "  'verbal',\n",
              "  'infinitive',\n",
              "  'suffix',\n",
              "  'ίζειν',\n",
              "  'izein',\n",
              "  'the',\n",
              "  'first',\n",
              "  'known',\n",
              "  'use',\n",
              "  'of',\n",
              "  'this',\n",
              "  'word',\n",
              "  'was',\n",
              "  'in',\n",
              "  'various',\n",
              "  'factions',\n",
              "  'within',\n",
              "  'the',\n",
              "  'french',\n",
              "  'revolution',\n",
              "  'labelled',\n",
              "  'opponents',\n",
              "  'as',\n",
              "  'anarchists',\n",
              "  'as',\n",
              "  'robespierre',\n",
              "  'did',\n",
              "  'the',\n",
              "  'hébertists',\n",
              "  'although',\n",
              "  'few',\n",
              "  'shared',\n",
              "  'many',\n",
              "  'views',\n",
              "  'of',\n",
              "  'later',\n",
              "  'anarchists',\n",
              "  'there',\n",
              "  'would',\n",
              "  'be',\n",
              "  'many',\n",
              "  'revolutionaries',\n",
              "  'of',\n",
              "  'the',\n",
              "  'early',\n",
              "  'nineteenth',\n",
              "  'century',\n",
              "  'who',\n",
              "  'contributed',\n",
              "  'to',\n",
              "  'the',\n",
              "  'anarchist',\n",
              "  'doctrines',\n",
              "  'of',\n",
              "  'the',\n",
              "  'next',\n",
              "  'generation',\n",
              "  'such',\n",
              "  'as',\n",
              "  'william',\n",
              "  'godwin',\n",
              "  'and',\n",
              "  'wilhelm',\n",
              "  'weitling',\n",
              "  'but',\n",
              "  'they',\n",
              "  'did',\n",
              "  'not',\n",
              "  'use',\n",
              "  'the',\n",
              "  'word',\n",
              "  'anarchist',\n",
              "  'or',\n",
              "  'anarchism',\n",
              "  'in',\n",
              "  'describing',\n",
              "  'themselves',\n",
              "  'or',\n",
              "  'their',\n",
              "  'beliefs',\n",
              "  'the',\n",
              "  'first',\n",
              "  'political',\n",
              "  'philosopher',\n",
              "  'to',\n",
              "  'call',\n",
              "  'himself',\n",
              "  'an',\n",
              "  'anarchist',\n",
              "  'was',\n",
              "  'pierre',\n",
              "  'joseph',\n",
              "  'proudhon',\n",
              "  'marking',\n",
              "  'the',\n",
              "  'formal',\n",
              "  'birth',\n",
              "  'of',\n",
              "  'anarchism',\n",
              "  'in',\n",
              "  'the',\n",
              "  'mid',\n",
              "  'nineteenth',\n",
              "  'century',\n",
              "  'since',\n",
              "  'the',\n",
              "  'and',\n",
              "  'beginning',\n",
              "  'in',\n",
              "  'france',\n",
              "  'the',\n",
              "  'term',\n",
              "  'libertarianism',\n",
              "  'has',\n",
              "  'often',\n",
              "  'been',\n",
              "  'used',\n",
              "  'as',\n",
              "  'synonym',\n",
              "  'for',\n",
              "  'anarchism',\n",
              "  'and',\n",
              "  'was',\n",
              "  'used',\n",
              "  'almost',\n",
              "  'exclusively',\n",
              "  'in',\n",
              "  'this',\n",
              "  'sense',\n",
              "  'until',\n",
              "  'the',\n",
              "  'in',\n",
              "  'the',\n",
              "  'united',\n",
              "  'states',\n",
              "  'its',\n",
              "  'use',\n",
              "  'as',\n",
              "  'synonym',\n",
              "  'is',\n",
              "  'still',\n",
              "  'common',\n",
              "  'outside',\n",
              "  'the',\n",
              "  'united',\n",
              "  'states',\n",
              "  'on',\n",
              "  'the',\n",
              "  'other',\n",
              "  'hand',\n",
              "  'some',\n",
              "  'use',\n",
              "  'libertarianism',\n",
              "  'to',\n",
              "  'refer',\n",
              "  'to',\n",
              "  'individualistic',\n",
              "  'free',\n",
              "  'market',\n",
              "  'philosophy',\n",
              "  'only',\n",
              "  'referring',\n",
              "  'to',\n",
              "  'free',\n",
              "  'market',\n",
              "  'anarchism',\n",
              "  'as',\n",
              "  'libertarian',\n",
              "  'anarchism',\n",
              "  'history',\n",
              "  'origins',\n",
              "  'woodcut',\n",
              "  'from',\n",
              "  'diggers',\n",
              "  'document',\n",
              "  'by',\n",
              "  'william',\n",
              "  'everard',\n",
              "  'the',\n",
              "  'earliest',\n",
              "  'anarchist',\n",
              "  'themes',\n",
              "  'can',\n",
              "  'be',\n",
              "  'found',\n",
              "  'in',\n",
              "  'the',\n",
              "  'th',\n",
              "  'century',\n",
              "  'bc',\n",
              "  'among',\n",
              "  'the',\n",
              "  'works',\n",
              "  'of',\n",
              "  'taoist',\n",
              "  'philosopher',\n",
              "  'laozi',\n",
              "  'and',\n",
              "  'in',\n",
              "  'later',\n",
              "  'centuries',\n",
              "  'by',\n",
              "  'zhuangzi',\n",
              "  'and',\n",
              "  'bao',\n",
              "  'jingyan',\n",
              "  'zhuangzi',\n",
              "  'philosophy',\n",
              "  'has',\n",
              "  'been',\n",
              "  'described',\n",
              "  'by',\n",
              "  'various',\n",
              "  'sources',\n",
              "  'as',\n",
              "  'anarchist',\n",
              "  'zhuangzi',\n",
              "  'wrote',\n",
              "  'petty',\n",
              "  'thief',\n",
              "  'is',\n",
              "  'put',\n",
              "  'in',\n",
              "  'jail',\n",
              "  'great',\n",
              "  'brigand',\n",
              "  'becomes',\n",
              "  'ruler',\n",
              "  'of',\n",
              "  'nation',\n",
              "  'diogenes',\n",
              "  'of',\n",
              "  'sinope',\n",
              "  'and',\n",
              "  'the',\n",
              "  'cynics',\n",
              "  'their',\n",
              "  'contemporary',\n",
              "  'zeno',\n",
              "  'of',\n",
              "  'citium',\n",
              "  'the',\n",
              "  'founder',\n",
              "  'of',\n",
              "  'stoicism',\n",
              "  'also',\n",
              "  'introduced',\n",
              "  'similar',\n",
              "  'topics',\n",
              "  'jesus',\n",
              "  'is',\n",
              "  'sometimes',\n",
              "  'considered',\n",
              "  'the',\n",
              "  'first',\n",
              "  'anarchist',\n",
              "  'in',\n",
              "  'the',\n",
              "  'christian',\n",
              "  'anarchist',\n",
              "  'tradition',\n",
              "  'georges',\n",
              "  'lechartier',\n",
              "  'wrote',\n",
              "  'that',\n",
              "  'the',\n",
              "  'true',\n",
              "  'founder',\n",
              "  'of',\n",
              "  'anarchy',\n",
              "  'was',\n",
              "  'jesus',\n",
              "  'christ',\n",
              "  'and',\n",
              "  'the',\n",
              "  'first',\n",
              "  'anarchist',\n",
              "  'society',\n",
              "  'was',\n",
              "  'that',\n",
              "  'of',\n",
              "  'the',\n",
              "  'apostles',\n",
              "  'in',\n",
              "  'early',\n",
              "  'islamic',\n",
              "  'history',\n",
              "  'some',\n",
              "  'manifestations',\n",
              "  'of',\n",
              "  'anarchic',\n",
              "  'thought',\n",
              "  'are',\n",
              "  'found',\n",
              "  'during',\n",
              "  'the',\n",
              "  'islamic',\n",
              "  'civil',\n",
              "  'war',\n",
              "  'over',\n",
              "  'the',\n",
              "  'caliphate',\n",
              "  'where',\n",
              "  'the',\n",
              "  'kharijites',\n",
              "  'insisted',\n",
              "  'that',\n",
              "  'the',\n",
              "  'imamate',\n",
              "  'is',\n",
              "  'right',\n",
              "  'for',\n",
              "  'each',\n",
              "  'individual',\n",
              "  'within',\n",
              "  'the',\n",
              "  'islamic',\n",
              "  'society',\n",
              "  'later',\n",
              "  'some',\n",
              "  'muslim',\n",
              "  'scholars',\n",
              "  'such',\n",
              "  'as',\n",
              "  'amer',\n",
              "  'al',\n",
              "  'basri',\n",
              "  'and',\n",
              "  'abu',\n",
              "  'hanifa',\n",
              "  'led',\n",
              "  'movements',\n",
              "  'of',\n",
              "  'boycotting',\n",
              "  'the',\n",
              "  'rulers',\n",
              "  'paving',\n",
              "  'the',\n",
              "  'way',\n",
              "  'to',\n",
              "  'the',\n",
              "  'waqf',\n",
              "  'endowments',\n",
              "  'tradition',\n",
              "  'which',\n",
              "  'served',\n",
              "  'as',\n",
              "  'an',\n",
              "  'alternative',\n",
              "  'to',\n",
              "  'and',\n",
              "  'asylum',\n",
              "  'from',\n",
              "  'the',\n",
              "  'centralized',\n",
              "  'authorities',\n",
              "  'of',\n",
              "  'the',\n",
              "  'emirs',\n",
              "  'but',\n",
              "  'such',\n",
              "  'interpretations',\n",
              "  'reverberates',\n",
              "  'subversive',\n",
              "  'religious',\n",
              "  'conceptions',\n",
              "  'like',\n",
              "  'the',\n",
              "  'aforementioned',\n",
              "  'seemingly',\n",
              "  'anarchistic',\n",
              "  'taoist',\n",
              "  'teachings',\n",
              "  'and',\n",
              "  'that',\n",
              "  'of',\n",
              "  'other',\n",
              "  'anti',\n",
              "  'authoritarian',\n",
              "  'religious',\n",
              "  'traditions',\n",
              "  'creating',\n",
              "  'complex',\n",
              "  'relationship',\n",
              "  'regarding',\n",
              "  'the',\n",
              "  'question',\n",
              "  'as',\n",
              "  'to',\n",
              "  'whether',\n",
              "  'or',\n",
              "  'not',\n",
              "  'anarchism',\n",
              "  'and',\n",
              "  'religion',\n",
              "  'are',\n",
              "  'compatible',\n",
              "  'this',\n",
              "  'is',\n",
              "  'exemplified',\n",
              "  'when',\n",
              "  'the',\n",
              "  'glorification',\n",
              "  'of',\n",
              "  'the',\n",
              "  'state',\n",
              "  'is',\n",
              "  'viewed',\n",
              "  'as',\n",
              "  'form',\n",
              "  'of',\n",
              "  'sinful',\n",
              "  'idolatry',\n",
              "  'the',\n",
              "  'french',\n",
              "  'renaissance',\n",
              "  'political',\n",
              "  'philosopher',\n",
              "  'étienne',\n",
              "  'de',\n",
              "  'la',\n",
              "  'boétie',\n",
              "  'wrote',\n",
              "  'in',\n",
              "  'his',\n",
              "  'most',\n",
              "  'famous',\n",
              "  'work',\n",
              "  'the',\n",
              "  'discourse',\n",
              "  'on',\n",
              "  'voluntary',\n",
              "  'servitude',\n",
              "  'what',\n",
              "  'some',\n",
              "  'historians',\n",
              "  'consider',\n",
              "  'an',\n",
              "  'important',\n",
              "  'anarchist',\n",
              "  'precedent',\n",
              "  'the',\n",
              "  'radical',\n",
              "  'protestant',\n",
              "  'christian',\n",
              "  'gerrard',\n",
              "  'winstanley',\n",
              "  'and',\n",
              "  'his',\n",
              "  'group',\n",
              "  'the',\n",
              "  'diggers',\n",
              "  'are',\n",
              "  'cited',\n",
              "  'by',\n",
              "  'various',\n",
              "  'authors',\n",
              "  'as',\n",
              "  'proposing',\n",
              "  'anarchist',\n",
              "  'social',\n",
              "  'measures',\n",
              "  'in',\n",
              "  'the',\n",
              "  'th',\n",
              "  'century',\n",
              "  'in',\n",
              "  'england',\n",
              "  'the',\n",
              "  'term',\n",
              "  'anarchist',\n",
              "  'first',\n",
              "  'entered',\n",
              "  'the',\n",
              "  'english',\n",
              "  'language',\n",
              "  'in',\n",
              "  'during',\n",
              "  'the',\n",
              "  'english',\n",
              "  'civil',\n",
              "  'war',\n",
              "  'as',\n",
              "  'term',\n",
              "  'of',\n",
              "  'abuse',\n",
              "  'used',\n",
              "  'by',\n",
              "  'royalists',\n",
              "  'against',\n",
              "  'their',\n",
              "  'roundhead',\n",
              "  'opponents',\n",
              "  'by',\n",
              "  'the',\n",
              "  'time',\n",
              "  'of',\n",
              "  'the',\n",
              "  'french',\n",
              "  'revolution',\n",
              "  'some',\n",
              "  'such',\n",
              "  'as',\n",
              "  'the',\n",
              "  'enragés',\n",
              "  'began',\n",
              "  'to',\n",
              "  'use',\n",
              "  'the',\n",
              "  'term',\n",
              "  'positively',\n",
              "  'in',\n",
              "  'opposition',\n",
              "  'to',\n",
              "  'jacobin',\n",
              "  'centralisation',\n",
              "  'of',\n",
              "  'power',\n",
              "  'seeing',\n",
              "  'revolutionary',\n",
              "  'government',\n",
              "  'as',\n",
              "  'oxymoronic',\n",
              "  'by',\n",
              "  'the',\n",
              "  'turn',\n",
              "  'of',\n",
              "  'the',\n",
              "  'th',\n",
              "  'century',\n",
              "  'the',\n",
              "  'english',\n",
              "  'word',\n",
              "  'anarchism',\n",
              "  'had',\n",
              "  'lost',\n",
              "  'its',\n",
              "  'initial',\n",
              "  'negative',\n",
              "  'connotation',\n",
              "  'modern',\n",
              "  'anarchism',\n",
              "  'sprang',\n",
              "  'from',\n",
              "  'the',\n",
              "  'secular',\n",
              "  'or',\n",
              "  'religious',\n",
              "  'thought',\n",
              "  'of',\n",
              "  'the',\n",
              "  'enlightenment',\n",
              "  'particularly',\n",
              "  'jean',\n",
              "  'jacques',\n",
              "  'rousseau',\n",
              "  'arguments',\n",
              "  'for',\n",
              "  'the',\n",
              "  'moral',\n",
              "  'centrality',\n",
              "  'of',\n",
              "  'freedom',\n",
              "  'as',\n",
              "  'part',\n",
              "  'of',\n",
              "  'the',\n",
              "  'political',\n",
              "  'turmoil',\n",
              "  'of',\n",
              "  'the',\n",
              "  'in',\n",
              "  'the',\n",
              "  'wake',\n",
              "  'of',\n",
              "  'the',\n",
              "  'french',\n",
              "  'revolution',\n",
              "  'william',\n",
              "  'godwin',\n",
              "  'developed',\n",
              "  'the',\n",
              "  'first',\n",
              "  'expression',\n",
              "  'of',\n",
              "  'modern',\n",
              "  'anarchist',\n",
              "  'thought',\n",
              "  'godwin',\n",
              "  'was',\n",
              "  'according',\n",
              "  'to',\n",
              "  'peter',\n",
              "  'kropotkin',\n",
              "  'the',\n",
              "  'first',\n",
              "  'to',\n",
              "  'formulate',\n",
              "  'the',\n",
              "  'political',\n",
              "  'and',\n",
              "  'economical',\n",
              "  'conceptions',\n",
              "  'of',\n",
              "  'anarchism',\n",
              "  'even',\n",
              "  'though',\n",
              "  'he',\n",
              "  'did',\n",
              "  'not',\n",
              "  'give',\n",
              "  'that',\n",
              "  'name',\n",
              "  'to',\n",
              "  'the',\n",
              "  'ideas',\n",
              "  'developed',\n",
              "  'in',\n",
              "  'his',\n",
              "  'work',\n",
              "  'while',\n",
              "  'godwin',\n",
              "  'attached',\n",
              "  'his',\n",
              "  'anarchist',\n",
              "  'ideas',\n",
              "  'to',\n",
              "  'an',\n",
              "  'early',\n",
              "  'edmund',\n",
              "  'burke',\n",
              "  'william',\n",
              "  'godwin',\n",
              "  'the',\n",
              "  'first',\n",
              "  'to',\n",
              "  'formulate',\n",
              "  'the',\n",
              "  'political',\n",
              "  'and',\n",
              "  'economical',\n",
              "  'conceptions',\n",
              "  'of',\n",
              "  'anarchism',\n",
              "  'even',\n",
              "  'though',\n",
              "  'he',\n",
              "  'did',\n",
              "  'not',\n",
              "  'give',\n",
              "  'that',\n",
              "  'name',\n",
              "  'to',\n",
              "  'the',\n",
              "  'ideas',\n",
              "  'developed',\n",
              "  'in',\n",
              "  'his',\n",
              "  'work',\n",
              "  'godwin',\n",
              "  'is',\n",
              "  'generally',\n",
              "  'regarded',\n",
              "  'as',\n",
              "  'the',\n",
              "  'founder',\n",
              "  'of',\n",
              "  'the',\n",
              "  'school',\n",
              "  'of',\n",
              "  'thought',\n",
              "  'known',\n",
              "  'as',\n",
              "  'philosophical',\n",
              "  'anarchism',\n",
              "  'he',\n",
              "  'argued',\n",
              "  'in',\n",
              "  'political',\n",
              "  'justice',\n",
              "  'that',\n",
              "  'government',\n",
              "  'has',\n",
              "  'an',\n",
              "  'inherently',\n",
              "  'malevolent',\n",
              "  'influence',\n",
              "  'on',\n",
              "  'society',\n",
              "  'and',\n",
              "  'that',\n",
              "  'it',\n",
              "  'perpetuates',\n",
              "  'dependency',\n",
              "  'and',\n",
              "  'ignorance',\n",
              "  'he',\n",
              "  'thought',\n",
              "  'that',\n",
              "  'the',\n",
              "  'spread',\n",
              "  'of',\n",
              "  'the',\n",
              "  'use',\n",
              "  'of',\n",
              "  'reason',\n",
              "  'to',\n",
              "  'the',\n",
              "  'masses',\n",
              "  'would',\n",
              "  'eventually',\n",
              "  'cause',\n",
              "  'government',\n",
              "  'to',\n",
              "  'wither',\n",
              "  'away',\n",
              "  'as',\n",
              "  'an',\n",
              "  'unnecessary',\n",
              "  'force',\n",
              "  'although',\n",
              "  'he',\n",
              "  'did',\n",
              "  'not',\n",
              "  'accord',\n",
              "  'the',\n",
              "  'state',\n",
              "  'with',\n",
              "  'moral',\n",
              "  'legitimacy',\n",
              "  'he',\n",
              "  'was',\n",
              "  'against',\n",
              "  'the',\n",
              "  'use',\n",
              "  'of',\n",
              "  'revolutionary',\n",
              "  'tactics',\n",
              "  'for',\n",
              "  'removing',\n",
              "  'the',\n",
              "  'government',\n",
              "  'from',\n",
              "  'power',\n",
              "  'rather',\n",
              "  'he',\n",
              "  'advocated',\n",
              "  'for',\n",
              "  'its',\n",
              "  'replacement',\n",
              "  'through',\n",
              "  'process',\n",
              "  'of',\n",
              "  'peaceful',\n",
              "  'evolution',\n",
              "  'his',\n",
              "  'aversion',\n",
              "  'to',\n",
              "  'the',\n",
              "  'imposition',\n",
              "  'of',\n",
              "  'rules',\n",
              "  'based',\n",
              "  'society',\n",
              "  ...]]"
            ]
          },
          "metadata": {},
          "execution_count": 11
        }
      ],
      "source": [
        "wiki_sentences[:1]"
      ]
    },
    {
      "cell_type": "code",
      "execution_count": 12,
      "metadata": {
        "id": "Y2vvghJNz-oF"
      },
      "outputs": [],
      "source": [
        "w2v_wiki_model = Word2Vec(sentences=wiki_sentences,\n",
        "                         vector_size=100,\n",
        "                         window=5,\n",
        "                         min_count=1,\n",
        "                         workers=4)"
      ]
    },
    {
      "cell_type": "code",
      "execution_count": 13,
      "metadata": {
        "id": "JVpF7vERz-oF",
        "outputId": "f6e09e69-3efe-4a38-e980-6bdb1a3a2d0e",
        "colab": {
          "base_uri": "https://localhost:8080/"
        }
      },
      "outputs": [
        {
          "output_type": "execute_result",
          "data": {
            "text/plain": [
              "[('highest', 0.9942526817321777),\n",
              " ('republic', 0.9929687976837158),\n",
              " ('independence', 0.9920095801353455),\n",
              " ('member', 0.9919111132621765),\n",
              " ('area', 0.9912968873977661)]"
            ]
          },
          "metadata": {},
          "execution_count": 13
        }
      ],
      "source": [
        "# most similar\n",
        "sims = w2v_wiki_model.wv.most_similar('government', topn=5)  # get other similar words\n",
        "sims"
      ]
    },
    {
      "cell_type": "markdown",
      "metadata": {
        "id": "FEwzhOFez-oG"
      },
      "source": [
        "**Limitations of Word2Vec**: Word2Vec considers only the local dependencies of words (i.e. words surrounding a context word), so does not utilize global statistics of co-occurrences within the entire corpus, while GloVe does consider it."
      ]
    },
    {
      "cell_type": "markdown",
      "metadata": {
        "id": "qF4kVJmDz-oG"
      },
      "source": [
        "<a name=\"2\"></a>\n",
        "## 2. TASK A: Word embedding similarity\n",
        "\n",
        "For this task, we will use pre-trained word embedding models.\n",
        "\n",
        "**Word2Vec:** We will use once again Word2vec as in the previous question, but in this case we will load the pre-trained version of it that has been trained on a part of the Google News dataset (about 100 billion words). The model variant that we will use, contains 300-dimensional vectors for 3 million words and phrases.\n",
        "\n",
        "**GloVe:** We will also use GloVe word embeddings that have been pre-trained on 2B tweets, 27B tokens, 1.2M vocab, uncased. The model variant that we will use contains 100-dimensional vectors.\n",
        "\n",
        "Once we load the vector represenation of words, we will:\n",
        "- find similarities between group of words.\n",
        "- discover a very cool property of word embeddings through analogies.\n",
        "- evaluate their performance on how well they capture the semantics between words on the SimLex task.\n"
      ]
    },
    {
      "cell_type": "markdown",
      "metadata": {
        "id": "JOjaKBtNz-oG"
      },
      "source": [
        "### 2.1 Using pre-trained word embedding models"
      ]
    },
    {
      "cell_type": "code",
      "execution_count": 14,
      "metadata": {
        "id": "2ULMFRZ1z-oG",
        "outputId": "115baad5-24b4-44e3-d969-2c13e45ac02b",
        "colab": {
          "base_uri": "https://localhost:8080/"
        }
      },
      "outputs": [
        {
          "output_type": "stream",
          "name": "stdout",
          "text": [
            "['fasttext-wiki-news-subwords-300', 'conceptnet-numberbatch-17-06-300', 'word2vec-ruscorpora-300', 'word2vec-google-news-300', 'glove-wiki-gigaword-50', 'glove-wiki-gigaword-100', 'glove-wiki-gigaword-200', 'glove-wiki-gigaword-300', 'glove-twitter-25', 'glove-twitter-50', 'glove-twitter-100', 'glove-twitter-200', '__testing_word2vec-matrix-synopsis']\n"
          ]
        }
      ],
      "source": [
        "# Show all available models in gensim-data\n",
        "print(list(gensim.downloader.info()['models'].keys()))"
      ]
    },
    {
      "cell_type": "code",
      "execution_count": 15,
      "metadata": {
        "id": "JdwP3D0Sz-oG",
        "outputId": "98a6d380-50d8-4fe8-8f14-3baa795b827d",
        "colab": {
          "base_uri": "https://localhost:8080/"
        }
      },
      "outputs": [
        {
          "output_type": "stream",
          "name": "stdout",
          "text": [
            "[==================================================] 100.0% 1662.8/1662.8MB downloaded\n"
          ]
        }
      ],
      "source": [
        "# Download the \"word2vec-google-news-300\" embeddings\n",
        "w2v_vectors = gensim.downloader.load('word2vec-google-news-300')"
      ]
    },
    {
      "cell_type": "code",
      "execution_count": 17,
      "metadata": {
        "id": "C-omIT2_z-oG",
        "outputId": "a869e09e-5a2d-42f9-c89e-62acda4f7a1e",
        "colab": {
          "base_uri": "https://localhost:8080/"
        }
      },
      "outputs": [
        {
          "output_type": "stream",
          "name": "stdout",
          "text": [
            "[==================================================] 100.0% 128.1/128.1MB downloaded\n"
          ]
        }
      ],
      "source": [
        "# Download the \"glove-wiki-gigaword-100\" embeddings\n",
        "glove_vectors = gensim.downloader.load('glove-wiki-gigaword-100')"
      ]
    },
    {
      "cell_type": "markdown",
      "metadata": {
        "id": "Ho8tb2WBz-oG"
      },
      "source": [
        "The best way to understand a data is by visualizing them. We will use t-SNE to reduce the data with 300 dimensions to 2 dimensions, so that we can plot the data on our screens.\n",
        "t-SNE is a non-linear dimensionality reduction algorithm that attempts to represent high-dimensional data and the underlying relationships between vectors in a lower-dimensional space."
      ]
    },
    {
      "cell_type": "code",
      "execution_count": 18,
      "metadata": {
        "id": "SpEm8ztfz-oG"
      },
      "outputs": [],
      "source": [
        "# visualization utility function. NO NEED TO CHANGE ANYTHING HERE\n",
        "sns.set_style('whitegrid')\n",
        "sns.set_theme(rc={'figure.figsize':(11.7,8.27)})\n",
        "\n",
        "def tsne_scatterplot(model, search_word, topn):\n",
        "    labels = [search_word]\n",
        "    tokens = [model[search_word]]\n",
        "    similar = [1]\n",
        "    close_words = model.similar_by_word(search_word, topn=topn)\n",
        "    for word in close_words:\n",
        "        tokens.append(model[word[0]])\n",
        "        labels.append(word[0])\n",
        "        similar.append(word[1])\n",
        "\n",
        "    tsne_model = TSNE(n_components=2, perplexity=topn, init='pca')\n",
        "    coordinates = tsne_model.fit_transform(np.array(tokens))\n",
        "    df = pd.DataFrame({'x': [x for x in coordinates[:, 0]],\n",
        "                       'y': [y for y in coordinates[:, 1]],\n",
        "                       'words': labels,\n",
        "                       'similarity': similar}\n",
        "                      )\n",
        "    fig, ax = plt.subplots()\n",
        "    plot = ax.scatter(df.x, df.y, c=df.similarity, cmap='Reds')\n",
        "    for i in range(len(df)):\n",
        "        ax.annotate(\"  {} ({:.2f})\".format(df.words[i].title(),\n",
        "                                           df.similarity[i]),\n",
        "                    (df.x[i], df.y[i]))\n",
        "\n",
        "    plt.colorbar(mappable=plot, ax=ax)\n",
        "    plt.title('t-SNE visualization for {}'.format(search_word))\n",
        "    plt.show()"
      ]
    },
    {
      "cell_type": "code",
      "execution_count": 19,
      "metadata": {
        "id": "VzWPc-LZz-oG",
        "outputId": "7af834a7-c12b-464d-c450-feedab3fd255",
        "colab": {
          "base_uri": "https://localhost:8080/",
          "height": 724
        }
      },
      "outputs": [
        {
          "output_type": "display_data",
          "data": {
            "text/plain": [
              "<Figure size 1170x827 with 2 Axes>"
            ],
            "image/png": "[encoded data removed]"
          },
          "metadata": {}
        }
      ],
      "source": [
        "# visualize the most similar words for a given word.\n",
        "tsne_scatterplot(glove_vectors, \"computer\", 20)"
      ]
    },
    {
      "cell_type": "markdown",
      "metadata": {
        "id": "r70eL5Opz-oH"
      },
      "source": [
        "#### Interactive visualization\n",
        "\n",
        "In the following link, you can explore the state-of-the-art models in an interactive embedding visualization: https://projector.tensorflow.org/.\n",
        "\n",
        "Using the TensorBoard Embedding Projector, you can graphically represent high dimensional embeddings. This can be helpful in visualizing, examining, and understanding your embeddings.\n",
        "\n",
        "Give it a try! Test interesting clusters of similar words!"
      ]
    },
    {
      "cell_type": "markdown",
      "metadata": {
        "id": "ymVg3BKfz-oH"
      },
      "source": [
        "### 2.2 Check word analogies\n",
        "\n",
        "The fact that we can analyze the use of words in language to deduce their meaning is a fundamental idea of [distributional semantics](https://en.wikipedia.org/wiki/Distributional_semantics). This is the inspiration behind many algorithms for learning numerical representations of words (word embeddings). An important aspect of these representations is the ability to solve word analogies of the form “A is to B what C is to X” using simple arithmetic. This is generally simplified as “King — Man + Woman $\\sim$ Queen.\n",
        "\n",
        "In this subquestion we will explore interesting relations that can be extracted from word embeddings. You will be given semantic relations and you need to implement the respective code using the embedding model."
      ]
    },
    {
      "cell_type": "markdown",
      "metadata": {
        "id": "qfBRlOw7z-oH"
      },
      "source": [
        "<div style=\"padding:8px 0 8px 15px;border-left:3px solid #03befc;background-color:#F3F3F3;color:#424242;\">\n",
        "\n",
        "- 🎯 **Goal:** Use the pre-trained GloVe embeddings to implement the following analogies.\n",
        "- 💻 **API:** You can use Gensim's `.most_similar` function.\n",
        "\n",
        "</div>"
      ]
    },
    {
      "cell_type": "markdown",
      "metadata": {
        "id": "O8jy0A57z-oH"
      },
      "source": [
        "**Analogy A:**  `King` — `Man` + `Woman` ~ `?`\n",
        "\n",
        "`?`: `Queen`"
      ]
    },
    {
      "cell_type": "code",
      "execution_count": 20,
      "metadata": {
        "id": "o1AkUBGHz-oH",
        "outputId": "5d717186-8bba-4816-ec36-2d71617a0918",
        "colab": {
          "base_uri": "https://localhost:8080/"
        }
      },
      "outputs": [
        {
          "output_type": "stream",
          "name": "stdout",
          "text": [
            "queen: 0.7699\n"
          ]
        }
      ],
      "source": [
        "# Check the \"most similar words\", using the default \"cosine similarity\" measure.\n",
        "result = glove_vectors.most_similar(positive=['woman', 'king'], negative=['man'])\n",
        "most_similar_key, similarity = result[0]  # look at the first match\n",
        "print(f\"{most_similar_key}: {similarity:.4f}\")"
      ]
    },
    {
      "cell_type": "markdown",
      "metadata": {
        "id": "3sYPTWfDz-oH"
      },
      "source": [
        "**Analogy B:**  `France` — `Paris` + `Athens` ~ `?`\n",
        "\n",
        "`?`: `Greece`"
      ]
    },
    {
      "cell_type": "code",
      "execution_count": 21,
      "metadata": {
        "id": "kFIXKUOYz-oH",
        "outputId": "1d2b528f-f394-4b94-8740-0e6245efb009",
        "colab": {
          "base_uri": "https://localhost:8080/"
        }
      },
      "outputs": [
        {
          "output_type": "stream",
          "name": "stdout",
          "text": [
            "greece: 0.7968\n"
          ]
        }
      ],
      "source": [
        "# Check the \"most similar words\", using the default \"cosine similarity\" measure.\n",
        "result = glove_vectors.most_similar(positive=['athens', 'france'], negative=['paris'])\n",
        "most_similar_key, similarity = result[0]  # look at the first match\n",
        "print(f\"{most_similar_key}: {similarity:.4f}\")"
      ]
    },
    {
      "cell_type": "markdown",
      "metadata": {
        "id": "2ZmtF6kcz-oI"
      },
      "source": [
        "However, we should not forget that these models are trained in human generated language. Meaning that sociatital and demographic biases are inevitable. In the following example you will unfortunatelly witness these kind of biases that the model unitentionally proragates to its final output.\n",
        "\n",
        "Fortunatelly, extensive reaserch has been developed the last years to tackle this issue trying to de-bias the embeddings models. More regarding this topic will be covered in Week 11  when we will be talking about Ethics in NLP regarding Toxicity, Bias and Fairness.\n",
        "\n",
        "**Analogy C:**  `Doctor` - `Man` + `Woman` ~ `Nurse`"
      ]
    },
    {
      "cell_type": "code",
      "execution_count": 22,
      "metadata": {
        "id": "hm595wgsz-oI",
        "outputId": "06bb0aa1-1dbc-40ac-e3f1-5db43e77a2a8",
        "colab": {
          "base_uri": "https://localhost:8080/"
        }
      },
      "outputs": [
        {
          "output_type": "stream",
          "name": "stdout",
          "text": [
            "nurse: 0.7735\n"
          ]
        }
      ],
      "source": [
        "# Check the \"most similar words\", using the default \"cosine similarity\" measure.\n",
        "result = glove_vectors.most_similar(positive=['woman', 'doctor'], negative=['man'])\n",
        "most_similar_key, similarity = result[0]  # look at the first match\n",
        "print(f\"{most_similar_key}: {similarity:.4f}\")"
      ]
    },
    {
      "cell_type": "markdown",
      "metadata": {
        "id": "pgiXLL8bz-oI"
      },
      "source": [
        "### 2.3 Evaluate different models with SimLex\n",
        "\n",
        "In this part of the exercise, we will evaluate the syntactic concreteness of the created vectors using their similarity. For this task, we will use the SimLex999 dataset which is a human-annotated dataset regarding the similarity of concepts of words.\n",
        "\n",
        "- 📄 Paper: https://aclanthology.org/J15-4004.pdf\n",
        "- 👾 More about the task: https://fh295.github.io/simlex.html\n",
        "\n",
        "> - Download the data from [here](https://fh295.github.io/SimLex-999.zip)\n",
        "> - Unzip the file and put the corresponding folder with the dataset in the same dir as this notebook\n",
        "\n",
        "SimLex-999 is a gold standard resource for the evaluation of models that learn the meaning of words and concepts. SimLex-999 provides a way of measuring how well models capture similarity, rather than relatedness or association.\n",
        "\n",
        "#### Dataset:\n",
        "SimLex-999.txt is a tab-separated plaintext file, where rows correspond to concept pairs and columns correspond to the properties of each pair.\n",
        "\n",
        "|Column | Description |\n",
        "|-------|:-------------|\n",
        "|word1| The first concept in the pair.|\n",
        "|word2| The second concept in the pair. Note that the order is only relevant to the column Assoc(USF). These values (free association scores) are asymmetric. All other values are symmetric properties independent of the ordering word1, word2.|\n",
        "|POS| The majority part-of-speech of the concept words, as determined by occurrence in the POS-tagged British National Corpus. Only pairs of matching POS are included in SimLex-999.|\n",
        "|SimLex999 | The SimLex999 similarity rating. Note that average annotator scores have been (linearly) mapped from the range [0,6] to the range [0,10] to match other datasets such as WordSim-353. |\n",
        "|conc(w1)| The concreteness rating of word1 on a scale of 1-7. Taken from the University of South Florida Free Association Norms database. |\n",
        "|conc(w2)| The concreteness rating of word2 on a scale of 1-7. Taken from the University of South Florida Free Association Norms database.|\n",
        "|concQ| The quartile the pair occupies based on the two concreteness ratings. Used for some analyses in the above paper.|\n",
        "|Assoc(USF)| The strength of free association from word1 to word2. Values are taken from the University of South Florida Free Association Dataset.|\n",
        "|SimAssoc333| Binary indicator of whether the pair is one of the 333 most associated in the dataset (according to Assoc(USF)). This subset of SimLex999 is often the hardest for computational models to capture because the noise from high association can confound the similarity rating. See the paper for more details.|\n",
        "|SD(SimLex)| The standard deviation of annotator scores when rating this pair. Low values indicate good agreement between the 15+ annotators on the similarity value SimLex999. Higher scores indicate less certainty. |"
      ]
    },
    {
      "cell_type": "markdown",
      "metadata": {
        "id": "Ix10GYQ3z-oI"
      },
      "source": [
        "We will be using the **`SimLex999` similarity column** to evaluate our word embeddings on this dataset. We will select the top 50 most similar pairs according to simlex999 column which a score from 0 to 10 regarding the similarities of the two words (columns: word1, word2) and it has been annotated by humans. On this subset of data, we will find the similarity score of the two words using our two pre-trained embedding models (Word2Vec, GloVe)."
      ]
    },
    {
      "cell_type": "code",
      "execution_count": 34,
      "metadata": {
        "id": "Wc1WNoA6z-oI",
        "outputId": "a238c766-b574-4acf-a129-6dfdc7aa084f",
        "colab": {
          "base_uri": "https://localhost:8080/",
          "height": 206
        }
      },
      "outputs": [
        {
          "output_type": "execute_result",
          "data": {
            "text/plain": [
              "   word1        word2  SimLex999\n",
              "0    old          new       1.58\n",
              "1  smart  intelligent       9.20\n",
              "2   hard    difficult       8.77\n",
              "3  happy     cheerful       9.55\n",
              "4   hard         easy       0.95"
            ],
            "text/html": [
              "\n",
              "  <div id=\"df-2f14011d-6146-44f1-86ad-effa98d1184a\" class=\"colab-df-container\">\n",
              "    <div>\n",
              "<style scoped>\n",
              "    .dataframe tbody tr th:only-of-type {\n",
              "        vertical-align: middle;\n",
              "    }\n",
              "\n",
              "    .dataframe tbody tr th {\n",
              "        vertical-align: top;\n",
              "    }\n",
              "\n",
              "    .dataframe thead th {\n",
              "        text-align: right;\n",
              "    }\n",
              "</style>\n",
              "<table border=\"1\" class=\"dataframe\">\n",
              "  <thead>\n",
              "    <tr style=\"text-align: right;\">\n",
              "      <th></th>\n",
              "      <th>word1</th>\n",
              "      <th>word2</th>\n",
              "      <th>SimLex999</th>\n",
              "    </tr>\n",
              "  </thead>\n",
              "  <tbody>\n",
              "    <tr>\n",
              "      <th>0</th>\n",
              "      <td>old</td>\n",
              "      <td>new</td>\n",
              "      <td>1.58</td>\n",
              "    </tr>\n",
              "    <tr>\n",
              "      <th>1</th>\n",
              "      <td>smart</td>\n",
              "      <td>intelligent</td>\n",
              "      <td>9.20</td>\n",
              "    </tr>\n",
              "    <tr>\n",
              "      <th>2</th>\n",
              "      <td>hard</td>\n",
              "      <td>difficult</td>\n",
              "      <td>8.77</td>\n",
              "    </tr>\n",
              "    <tr>\n",
              "      <th>3</th>\n",
              "      <td>happy</td>\n",
              "      <td>cheerful</td>\n",
              "      <td>9.55</td>\n",
              "    </tr>\n",
              "    <tr>\n",
              "      <th>4</th>\n",
              "      <td>hard</td>\n",
              "      <td>easy</td>\n",
              "      <td>0.95</td>\n",
              "    </tr>\n",
              "  </tbody>\n",
              "</table>\n",
              "</div>\n",
              "    <div class=\"colab-df-buttons\">\n",
              "\n",
              "  <div class=\"colab-df-container\">\n",
              "    <button class=\"colab-df-convert\" onclick=\"convertToInteractive('df-2f14011d-6146-44f1-86ad-effa98d1184a')\"\n",
              "            title=\"Convert this dataframe to an interactive table.\"\n",
              "            style=\"display:none;\">\n",
              "\n",
              "  <svg xmlns=\"http://www.w3.org/2000/svg\" height=\"24px\" viewBox=\"0 -960 960 960\">\n",
              "    <path d=\"M120-120v-720h720v720H120Zm60-500h600v-160H180v160Zm220 220h160v-160H400v160Zm0 220h160v-160H400v160ZM180-400h160v-160H180v160Zm440 0h160v-160H620v160ZM180-180h160v-160H180v160Zm440 0h160v-160H620v160Z\"/>\n",
              "  </svg>\n",
              "    </button>\n",
              "\n",
              "  <style>\n",
              "    .colab-df-container {\n",
              "      display:flex;\n",
              "      gap: 12px;\n",
              "    }\n",
              "\n",
              "    .colab-df-convert {\n",
              "      background-color: #E8F0FE;\n",
              "      border: none;\n",
              "      border-radius: 50%;\n",
              "      cursor: pointer;\n",
              "      display: none;\n",
              "      fill: #1967D2;\n",
              "      height: 32px;\n",
              "      padding: 0 0 0 0;\n",
              "      width: 32px;\n",
              "    }\n",
              "\n",
              "    .colab-df-convert:hover {\n",
              "      background-color: #E2EBFA;\n",
              "      box-shadow: 0px 1px 2px rgba(60, 64, 67, 0.3), 0px 1px 3px 1px rgba(60, 64, 67, 0.15);\n",
              "      fill: #174EA6;\n",
              "    }\n",
              "\n",
              "    .colab-df-buttons div {\n",
              "      margin-bottom: 4px;\n",
              "    }\n",
              "\n",
              "    [theme=dark] .colab-df-convert {\n",
              "      background-color: #3B4455;\n",
              "      fill: #D2E3FC;\n",
              "    }\n",
              "\n",
              "    [theme=dark] .colab-df-convert:hover {\n",
              "      background-color: #434B5C;\n",
              "      box-shadow: 0px 1px 3px 1px rgba(0, 0, 0, 0.15);\n",
              "      filter: drop-shadow(0px 1px 2px rgba(0, 0, 0, 0.3));\n",
              "      fill: #FFFFFF;\n",
              "    }\n",
              "  </style>\n",
              "\n",
              "    <script>\n",
              "      const buttonEl =\n",
              "        document.querySelector('#df-2f14011d-6146-44f1-86ad-effa98d1184a button.colab-df-convert');\n",
              "      buttonEl.style.display =\n",
              "        google.colab.kernel.accessAllowed ? 'block' : 'none';\n",
              "\n",
              "      async function convertToInteractive(key) {\n",
              "        const element = document.querySelector('#df-2f14011d-6146-44f1-86ad-effa98d1184a');\n",
              "        const dataTable =\n",
              "          await google.colab.kernel.invokeFunction('convertToInteractive',\n",
              "                                                    [key], {});\n",
              "        if (!dataTable) return;\n",
              "\n",
              "        const docLinkHtml = 'Like what you see? Visit the ' +\n",
              "          '<a target=\"_blank\" href=https://colab.research.google.com/notebooks/data_table.ipynb>data table notebook</a>'\n",
              "          + ' to learn more about interactive tables.';\n",
              "        element.innerHTML = '';\n",
              "        dataTable['output_type'] = 'display_data';\n",
              "        await google.colab.output.renderOutput(dataTable, element);\n",
              "        const docLink = document.createElement('div');\n",
              "        docLink.innerHTML = docLinkHtml;\n",
              "        element.appendChild(docLink);\n",
              "      }\n",
              "    </script>\n",
              "  </div>\n",
              "\n",
              "\n",
              "<div id=\"df-54388f57-8d6f-46ba-8aaa-efaaf8fe951c\">\n",
              "  <button class=\"colab-df-quickchart\" onclick=\"quickchart('df-54388f57-8d6f-46ba-8aaa-efaaf8fe951c')\"\n",
              "            title=\"Suggest charts\"\n",
              "            style=\"display:none;\">\n",
              "\n",
              "<svg xmlns=\"http://www.w3.org/2000/svg\" height=\"24px\"viewBox=\"0 0 24 24\"\n",
              "     width=\"24px\">\n",
              "    <g>\n",
              "        <path d=\"M19 3H5c-1.1 0-2 .9-2 2v14c0 1.1.9 2 2 2h14c1.1 0 2-.9 2-2V5c0-1.1-.9-2-2-2zM9 17H7v-7h2v7zm4 0h-2V7h2v10zm4 0h-2v-4h2v4z\"/>\n",
              "    </g>\n",
              "</svg>\n",
              "  </button>\n",
              "\n",
              "<style>\n",
              "  .colab-df-quickchart {\n",
              "      --bg-color: #E8F0FE;\n",
              "      --fill-color: #1967D2;\n",
              "      --hover-bg-color: #E2EBFA;\n",
              "      --hover-fill-color: #174EA6;\n",
              "      --disabled-fill-color: #AAA;\n",
              "      --disabled-bg-color: #DDD;\n",
              "  }\n",
              "\n",
              "  [theme=dark] .colab-df-quickchart {\n",
              "      --bg-color: #3B4455;\n",
              "      --fill-color: #D2E3FC;\n",
              "      --hover-bg-color: #434B5C;\n",
              "      --hover-fill-color: #FFFFFF;\n",
              "      --disabled-bg-color: #3B4455;\n",
              "      --disabled-fill-color: #666;\n",
              "  }\n",
              "\n",
              "  .colab-df-quickchart {\n",
              "    background-color: var(--bg-color);\n",
              "    border: none;\n",
              "    border-radius: 50%;\n",
              "    cursor: pointer;\n",
              "    display: none;\n",
              "    fill: var(--fill-color);\n",
              "    height: 32px;\n",
              "    padding: 0;\n",
              "    width: 32px;\n",
              "  }\n",
              "\n",
              "  .colab-df-quickchart:hover {\n",
              "    background-color: var(--hover-bg-color);\n",
              "    box-shadow: 0 1px 2px rgba(60, 64, 67, 0.3), 0 1px 3px 1px rgba(60, 64, 67, 0.15);\n",
              "    fill: var(--button-hover-fill-color);\n",
              "  }\n",
              "\n",
              "  .colab-df-quickchart-complete:disabled,\n",
              "  .colab-df-quickchart-complete:disabled:hover {\n",
              "    background-color: var(--disabled-bg-color);\n",
              "    fill: var(--disabled-fill-color);\n",
              "    box-shadow: none;\n",
              "  }\n",
              "\n",
              "  .colab-df-spinner {\n",
              "    border: 2px solid var(--fill-color);\n",
              "    border-color: transparent;\n",
              "    border-bottom-color: var(--fill-color);\n",
              "    animation:\n",
              "      spin 1s steps(1) infinite;\n",
              "  }\n",
              "\n",
              "  @keyframes spin {\n",
              "    0% {\n",
              "      border-color: transparent;\n",
              "      border-bottom-color: var(--fill-color);\n",
              "      border-left-color: var(--fill-color);\n",
              "    }\n",
              "    20% {\n",
              "      border-color: transparent;\n",
              "      border-left-color: var(--fill-color);\n",
              "      border-top-color: var(--fill-color);\n",
              "    }\n",
              "    30% {\n",
              "      border-color: transparent;\n",
              "      border-left-color: var(--fill-color);\n",
              "      border-top-color: var(--fill-color);\n",
              "      border-right-color: var(--fill-color);\n",
              "    }\n",
              "    40% {\n",
              "      border-color: transparent;\n",
              "      border-right-color: var(--fill-color);\n",
              "      border-top-color: var(--fill-color);\n",
              "    }\n",
              "    60% {\n",
              "      border-color: transparent;\n",
              "      border-right-color: var(--fill-color);\n",
              "    }\n",
              "    80% {\n",
              "      border-color: transparent;\n",
              "      border-right-color: var(--fill-color);\n",
              "      border-bottom-color: var(--fill-color);\n",
              "    }\n",
              "    90% {\n",
              "      border-color: transparent;\n",
              "      border-bottom-color: var(--fill-color);\n",
              "    }\n",
              "  }\n",
              "</style>\n",
              "\n",
              "  <script>\n",
              "    async function quickchart(key) {\n",
              "      const quickchartButtonEl =\n",
              "        document.querySelector('#' + key + ' button');\n",
              "      quickchartButtonEl.disabled = true;  // To prevent multiple clicks.\n",
              "      quickchartButtonEl.classList.add('colab-df-spinner');\n",
              "      try {\n",
              "        const charts = await google.colab.kernel.invokeFunction(\n",
              "            'suggestCharts', [key], {});\n",
              "      } catch (error) {\n",
              "        console.error('Error during call to suggestCharts:', error);\n",
              "      }\n",
              "      quickchartButtonEl.classList.remove('colab-df-spinner');\n",
              "      quickchartButtonEl.classList.add('colab-df-quickchart-complete');\n",
              "    }\n",
              "    (() => {\n",
              "      let quickchartButtonEl =\n",
              "        document.querySelector('#df-54388f57-8d6f-46ba-8aaa-efaaf8fe951c button');\n",
              "      quickchartButtonEl.style.display =\n",
              "        google.colab.kernel.accessAllowed ? 'block' : 'none';\n",
              "    })();\n",
              "  </script>\n",
              "</div>\n",
              "\n",
              "    </div>\n",
              "  </div>\n"
            ],
            "application/vnd.google.colaboratory.intrinsic+json": {
              "type": "dataframe",
              "variable_name": "simlex",
              "summary": "{\n  \"name\": \"simlex\",\n  \"rows\": 999,\n  \"fields\": [\n    {\n      \"column\": \"word1\",\n      \"properties\": {\n        \"dtype\": \"string\",\n        \"num_unique_values\": 616,\n        \"samples\": [\n          \"south\",\n          \"apple\",\n          \"inspect\"\n        ],\n        \"semantic_type\": \"\",\n        \"description\": \"\"\n      }\n    },\n    {\n      \"column\": \"word2\",\n      \"properties\": {\n        \"dtype\": \"string\",\n        \"num_unique_values\": 686,\n        \"samples\": [\n          \"nephew\",\n          \"announce\",\n          \"father\"\n        ],\n        \"semantic_type\": \"\",\n        \"description\": \"\"\n      }\n    },\n    {\n      \"column\": \"SimLex999\",\n      \"properties\": {\n        \"dtype\": \"number\",\n        \"std\": 2.6146634127850836,\n        \"min\": 0.23,\n        \"max\": 9.8,\n        \"num_unique_values\": 344,\n        \"samples\": [\n          9.08,\n          3.72,\n          5.58\n        ],\n        \"semantic_type\": \"\",\n        \"description\": \"\"\n      }\n    }\n  ]\n}"
            }
          },
          "metadata": {},
          "execution_count": 34
        }
      ],
      "source": [
        "# read data\n",
        "simlex = pd.read_csv('SimLex-999/SimLex-999.txt', delimiter='\\t')\n",
        "simlex = simlex[['word1', 'word2', 'SimLex999']]\n",
        "simlex.head()"
      ]
    },
    {
      "cell_type": "markdown",
      "metadata": {
        "id": "O26Vyo_2z-oI"
      },
      "source": [
        "<div style=\"padding:8px 0 8px 15px;border-left:3px solid #03befc;background-color:#F3F3F3;color:#424242;\">\n",
        "\n",
        "- 🎯 **Goal:** Print the min, avg and max values of SimLex999 score.\n",
        "\n",
        "</div>"
      ]
    },
    {
      "cell_type": "code",
      "execution_count": 35,
      "metadata": {
        "id": "UYLJRy5wz-oI",
        "outputId": "ae1846aa-cc2d-40f1-cd31-bb03fba10ad6",
        "colab": {
          "base_uri": "https://localhost:8080/"
        }
      },
      "outputs": [
        {
          "output_type": "stream",
          "name": "stdout",
          "text": [
            "Min score: 0.23\n",
            "Avg score: 4.56\n",
            "Max score: 9.8\n"
          ]
        }
      ],
      "source": [
        "# stats on the SimLex999 similarity score\n",
        "print('Min score: {:.3}'.format(simlex['SimLex999'].values.min()))\n",
        "print('Avg score: {:.3}'.format(simlex['SimLex999'].values.mean()))\n",
        "print('Max score: {:.3}'.format(simlex['SimLex999'].values.max()))"
      ]
    },
    {
      "cell_type": "markdown",
      "metadata": {
        "id": "wIy5MiZbz-oI"
      },
      "source": [
        "<div style=\"padding:8px 0 8px 15px;border-left:3px solid #03befc;background-color:#F3F3F3;color:#424242;\">\n",
        "\n",
        "- 🎯 **Goal:** Select the top 50 pairs with the highest SimLex similarity score.\n",
        "</div>"
      ]
    },
    {
      "cell_type": "code",
      "execution_count": 36,
      "metadata": {
        "scrolled": false,
        "id": "mOzZ7sJaz-oI",
        "outputId": "c4d8d1d9-7b1e-4539-807b-e52e5c6f066a",
        "colab": {
          "base_uri": "https://localhost:8080/",
          "height": 206
        }
      },
      "outputs": [
        {
          "output_type": "execute_result",
          "data": {
            "text/plain": [
              "       word1      word2  SimLex999\n",
              "782   vanish  disappear       9.80\n",
              "22     quick      rapid       9.70\n",
              "205  creator      maker       9.62\n",
              "8     stupid       dumb       9.58\n",
              "16    insane      crazy       9.57"
            ],
            "text/html": [
              "\n",
              "  <div id=\"df-d993cf19-c079-4fb6-a161-e2b7018df43b\" class=\"colab-df-container\">\n",
              "    <div>\n",
              "<style scoped>\n",
              "    .dataframe tbody tr th:only-of-type {\n",
              "        vertical-align: middle;\n",
              "    }\n",
              "\n",
              "    .dataframe tbody tr th {\n",
              "        vertical-align: top;\n",
              "    }\n",
              "\n",
              "    .dataframe thead th {\n",
              "        text-align: right;\n",
              "    }\n",
              "</style>\n",
              "<table border=\"1\" class=\"dataframe\">\n",
              "  <thead>\n",
              "    <tr style=\"text-align: right;\">\n",
              "      <th></th>\n",
              "      <th>word1</th>\n",
              "      <th>word2</th>\n",
              "      <th>SimLex999</th>\n",
              "    </tr>\n",
              "  </thead>\n",
              "  <tbody>\n",
              "    <tr>\n",
              "      <th>782</th>\n",
              "      <td>vanish</td>\n",
              "      <td>disappear</td>\n",
              "      <td>9.80</td>\n",
              "    </tr>\n",
              "    <tr>\n",
              "      <th>22</th>\n",
              "      <td>quick</td>\n",
              "      <td>rapid</td>\n",
              "      <td>9.70</td>\n",
              "    </tr>\n",
              "    <tr>\n",
              "      <th>205</th>\n",
              "      <td>creator</td>\n",
              "      <td>maker</td>\n",
              "      <td>9.62</td>\n",
              "    </tr>\n",
              "    <tr>\n",
              "      <th>8</th>\n",
              "      <td>stupid</td>\n",
              "      <td>dumb</td>\n",
              "      <td>9.58</td>\n",
              "    </tr>\n",
              "    <tr>\n",
              "      <th>16</th>\n",
              "      <td>insane</td>\n",
              "      <td>crazy</td>\n",
              "      <td>9.57</td>\n",
              "    </tr>\n",
              "  </tbody>\n",
              "</table>\n",
              "</div>\n",
              "    <div class=\"colab-df-buttons\">\n",
              "\n",
              "  <div class=\"colab-df-container\">\n",
              "    <button class=\"colab-df-convert\" onclick=\"convertToInteractive('df-d993cf19-c079-4fb6-a161-e2b7018df43b')\"\n",
              "            title=\"Convert this dataframe to an interactive table.\"\n",
              "            style=\"display:none;\">\n",
              "\n",
              "  <svg xmlns=\"http://www.w3.org/2000/svg\" height=\"24px\" viewBox=\"0 -960 960 960\">\n",
              "    <path d=\"M120-120v-720h720v720H120Zm60-500h600v-160H180v160Zm220 220h160v-160H400v160Zm0 220h160v-160H400v160ZM180-400h160v-160H180v160Zm440 0h160v-160H620v160ZM180-180h160v-160H180v160Zm440 0h160v-160H620v160Z\"/>\n",
              "  </svg>\n",
              "    </button>\n",
              "\n",
              "  <style>\n",
              "    .colab-df-container {\n",
              "      display:flex;\n",
              "      gap: 12px;\n",
              "    }\n",
              "\n",
              "    .colab-df-convert {\n",
              "      background-color: #E8F0FE;\n",
              "      border: none;\n",
              "      border-radius: 50%;\n",
              "      cursor: pointer;\n",
              "      display: none;\n",
              "      fill: #1967D2;\n",
              "      height: 32px;\n",
              "      padding: 0 0 0 0;\n",
              "      width: 32px;\n",
              "    }\n",
              "\n",
              "    .colab-df-convert:hover {\n",
              "      background-color: #E2EBFA;\n",
              "      box-shadow: 0px 1px 2px rgba(60, 64, 67, 0.3), 0px 1px 3px 1px rgba(60, 64, 67, 0.15);\n",
              "      fill: #174EA6;\n",
              "    }\n",
              "\n",
              "    .colab-df-buttons div {\n",
              "      margin-bottom: 4px;\n",
              "    }\n",
              "\n",
              "    [theme=dark] .colab-df-convert {\n",
              "      background-color: #3B4455;\n",
              "      fill: #D2E3FC;\n",
              "    }\n",
              "\n",
              "    [theme=dark] .colab-df-convert:hover {\n",
              "      background-color: #434B5C;\n",
              "      box-shadow: 0px 1px 3px 1px rgba(0, 0, 0, 0.15);\n",
              "      filter: drop-shadow(0px 1px 2px rgba(0, 0, 0, 0.3));\n",
              "      fill: #FFFFFF;\n",
              "    }\n",
              "  </style>\n",
              "\n",
              "    <script>\n",
              "      const buttonEl =\n",
              "        document.querySelector('#df-d993cf19-c079-4fb6-a161-e2b7018df43b button.colab-df-convert');\n",
              "      buttonEl.style.display =\n",
              "        google.colab.kernel.accessAllowed ? 'block' : 'none';\n",
              "\n",
              "      async function convertToInteractive(key) {\n",
              "        const element = document.querySelector('#df-d993cf19-c079-4fb6-a161-e2b7018df43b');\n",
              "        const dataTable =\n",
              "          await google.colab.kernel.invokeFunction('convertToInteractive',\n",
              "                                                    [key], {});\n",
              "        if (!dataTable) return;\n",
              "\n",
              "        const docLinkHtml = 'Like what you see? Visit the ' +\n",
              "          '<a target=\"_blank\" href=https://colab.research.google.com/notebooks/data_table.ipynb>data table notebook</a>'\n",
              "          + ' to learn more about interactive tables.';\n",
              "        element.innerHTML = '';\n",
              "        dataTable['output_type'] = 'display_data';\n",
              "        await google.colab.output.renderOutput(dataTable, element);\n",
              "        const docLink = document.createElement('div');\n",
              "        docLink.innerHTML = docLinkHtml;\n",
              "        element.appendChild(docLink);\n",
              "      }\n",
              "    </script>\n",
              "  </div>\n",
              "\n",
              "\n",
              "<div id=\"df-e5315a34-0f73-480a-90c7-711e60784de2\">\n",
              "  <button class=\"colab-df-quickchart\" onclick=\"quickchart('df-e5315a34-0f73-480a-90c7-711e60784de2')\"\n",
              "            title=\"Suggest charts\"\n",
              "            style=\"display:none;\">\n",
              "\n",
              "<svg xmlns=\"http://www.w3.org/2000/svg\" height=\"24px\"viewBox=\"0 0 24 24\"\n",
              "     width=\"24px\">\n",
              "    <g>\n",
              "        <path d=\"M19 3H5c-1.1 0-2 .9-2 2v14c0 1.1.9 2 2 2h14c1.1 0 2-.9 2-2V5c0-1.1-.9-2-2-2zM9 17H7v-7h2v7zm4 0h-2V7h2v10zm4 0h-2v-4h2v4z\"/>\n",
              "    </g>\n",
              "</svg>\n",
              "  </button>\n",
              "\n",
              "<style>\n",
              "  .colab-df-quickchart {\n",
              "      --bg-color: #E8F0FE;\n",
              "      --fill-color: #1967D2;\n",
              "      --hover-bg-color: #E2EBFA;\n",
              "      --hover-fill-color: #174EA6;\n",
              "      --disabled-fill-color: #AAA;\n",
              "      --disabled-bg-color: #DDD;\n",
              "  }\n",
              "\n",
              "  [theme=dark] .colab-df-quickchart {\n",
              "      --bg-color: #3B4455;\n",
              "      --fill-color: #D2E3FC;\n",
              "      --hover-bg-color: #434B5C;\n",
              "      --hover-fill-color: #FFFFFF;\n",
              "      --disabled-bg-color: #3B4455;\n",
              "      --disabled-fill-color: #666;\n",
              "  }\n",
              "\n",
              "  .colab-df-quickchart {\n",
              "    background-color: var(--bg-color);\n",
              "    border: none;\n",
              "    border-radius: 50%;\n",
              "    cursor: pointer;\n",
              "    display: none;\n",
              "    fill: var(--fill-color);\n",
              "    height: 32px;\n",
              "    padding: 0;\n",
              "    width: 32px;\n",
              "  }\n",
              "\n",
              "  .colab-df-quickchart:hover {\n",
              "    background-color: var(--hover-bg-color);\n",
              "    box-shadow: 0 1px 2px rgba(60, 64, 67, 0.3), 0 1px 3px 1px rgba(60, 64, 67, 0.15);\n",
              "    fill: var(--button-hover-fill-color);\n",
              "  }\n",
              "\n",
              "  .colab-df-quickchart-complete:disabled,\n",
              "  .colab-df-quickchart-complete:disabled:hover {\n",
              "    background-color: var(--disabled-bg-color);\n",
              "    fill: var(--disabled-fill-color);\n",
              "    box-shadow: none;\n",
              "  }\n",
              "\n",
              "  .colab-df-spinner {\n",
              "    border: 2px solid var(--fill-color);\n",
              "    border-color: transparent;\n",
              "    border-bottom-color: var(--fill-color);\n",
              "    animation:\n",
              "      spin 1s steps(1) infinite;\n",
              "  }\n",
              "\n",
              "  @keyframes spin {\n",
              "    0% {\n",
              "      border-color: transparent;\n",
              "      border-bottom-color: var(--fill-color);\n",
              "      border-left-color: var(--fill-color);\n",
              "    }\n",
              "    20% {\n",
              "      border-color: transparent;\n",
              "      border-left-color: var(--fill-color);\n",
              "      border-top-color: var(--fill-color);\n",
              "    }\n",
              "    30% {\n",
              "      border-color: transparent;\n",
              "      border-left-color: var(--fill-color);\n",
              "      border-top-color: var(--fill-color);\n",
              "      border-right-color: var(--fill-color);\n",
              "    }\n",
              "    40% {\n",
              "      border-color: transparent;\n",
              "      border-right-color: var(--fill-color);\n",
              "      border-top-color: var(--fill-color);\n",
              "    }\n",
              "    60% {\n",
              "      border-color: transparent;\n",
              "      border-right-color: var(--fill-color);\n",
              "    }\n",
              "    80% {\n",
              "      border-color: transparent;\n",
              "      border-right-color: var(--fill-color);\n",
              "      border-bottom-color: var(--fill-color);\n",
              "    }\n",
              "    90% {\n",
              "      border-color: transparent;\n",
              "      border-bottom-color: var(--fill-color);\n",
              "    }\n",
              "  }\n",
              "</style>\n",
              "\n",
              "  <script>\n",
              "    async function quickchart(key) {\n",
              "      const quickchartButtonEl =\n",
              "        document.querySelector('#' + key + ' button');\n",
              "      quickchartButtonEl.disabled = true;  // To prevent multiple clicks.\n",
              "      quickchartButtonEl.classList.add('colab-df-spinner');\n",
              "      try {\n",
              "        const charts = await google.colab.kernel.invokeFunction(\n",
              "            'suggestCharts', [key], {});\n",
              "      } catch (error) {\n",
              "        console.error('Error during call to suggestCharts:', error);\n",
              "      }\n",
              "      quickchartButtonEl.classList.remove('colab-df-spinner');\n",
              "      quickchartButtonEl.classList.add('colab-df-quickchart-complete');\n",
              "    }\n",
              "    (() => {\n",
              "      let quickchartButtonEl =\n",
              "        document.querySelector('#df-e5315a34-0f73-480a-90c7-711e60784de2 button');\n",
              "      quickchartButtonEl.style.display =\n",
              "        google.colab.kernel.accessAllowed ? 'block' : 'none';\n",
              "    })();\n",
              "  </script>\n",
              "</div>\n",
              "\n",
              "    </div>\n",
              "  </div>\n"
            ],
            "application/vnd.google.colaboratory.intrinsic+json": {
              "type": "dataframe",
              "variable_name": "simlex_similar_pairs",
              "summary": "{\n  \"name\": \"simlex_similar_pairs\",\n  \"rows\": 50,\n  \"fields\": [\n    {\n      \"column\": \"word1\",\n      \"properties\": {\n        \"dtype\": \"string\",\n        \"num_unique_values\": 47,\n        \"samples\": [\n          \"cop\",\n          \"decide\",\n          \"adversary\"\n        ],\n        \"semantic_type\": \"\",\n        \"description\": \"\"\n      }\n    },\n    {\n      \"column\": \"word2\",\n      \"properties\": {\n        \"dtype\": \"string\",\n        \"num_unique_values\": 48,\n        \"samples\": [\n          \"border\",\n          \"choose\",\n          \"beg\"\n        ],\n        \"semantic_type\": \"\",\n        \"description\": \"\"\n      }\n    },\n    {\n      \"column\": \"SimLex999\",\n      \"properties\": {\n        \"dtype\": \"number\",\n        \"std\": 0.2733454120443843,\n        \"min\": 8.78,\n        \"max\": 9.8,\n        \"num_unique_values\": 28,\n        \"samples\": [\n          9.37,\n          8.83,\n          9.4\n        ],\n        \"semantic_type\": \"\",\n        \"description\": \"\"\n      }\n    }\n  ]\n}"
            }
          },
          "metadata": {},
          "execution_count": 36
        }
      ],
      "source": [
        "# select a subset of word-pairs with the highest similiarity score given by annotators\n",
        "simlex_similar_pairs = simlex.sort_values(by=['SimLex999'], ascending=False).head(50)\n",
        "simlex_similar_pairs.head()"
      ]
    },
    {
      "cell_type": "markdown",
      "metadata": {
        "id": "TC5j1LDiz-oJ"
      },
      "source": [
        "<div style=\"padding:8px 0 8px 15px;border-left:3px solid #03befc;background-color:#F3F3F3;color:#424242;\">\n",
        "\n",
        "- 🎯 **Goal:** For each word pair from `simlex_similar_pairs`, compute the similarity between the GloVe embeddings (also Word2Vec embeddings) of the words.\n",
        "- 💻 **API:** You can use Gensim's `.similarity` function.\n",
        "\n",
        "</div>"
      ]
    },
    {
      "cell_type": "code",
      "execution_count": 37,
      "metadata": {
        "id": "G8LDzVAnz-oJ"
      },
      "outputs": [],
      "source": [
        "# computes the similarities of each pair using each word embedding model\n",
        "similarities = list()\n",
        "for _, pair in simlex_similar_pairs.iterrows():\n",
        "    w1 = pair['word1']\n",
        "    w2 = pair['word2']\n",
        "    similarity_glove = glove_vectors.similarity(w1, w2)\n",
        "    similarity_w2v = w2v_vectors.similarity(w1, w2)\n",
        "    similarities.append({'w1': w1, 'w2': w2,\n",
        "                         'similarity_w2v': similarity_w2v,\n",
        "                         'similarity_glove': similarity_glove,\n",
        "                         'similarity_golden': pair['SimLex999']})\n",
        "# break\n",
        "similarities = pd.DataFrame(similarities)"
      ]
    },
    {
      "cell_type": "code",
      "execution_count": 38,
      "metadata": {
        "id": "mQy1ZrHoz-oJ",
        "outputId": "27800399-f2ec-4462-d416-cb11d0a1df23",
        "colab": {
          "base_uri": "https://localhost:8080/",
          "height": 206
        }
      },
      "outputs": [
        {
          "output_type": "execute_result",
          "data": {
            "text/plain": [
              "        w1         w2  similarity_w2v  similarity_glove  similarity_golden\n",
              "0   vanish  disappear        0.900423          0.881494               9.80\n",
              "1    quick      rapid        0.497791          0.561225               9.70\n",
              "2  creator      maker        0.260506          0.243845               9.62\n",
              "3   stupid       dumb        0.817314          0.836065               9.58\n",
              "4   insane      crazy        0.733904          0.591737               9.57"
            ],
            "text/html": [
              "\n",
              "  <div id=\"df-2a925a83-4ac0-486e-91d3-5693fd4b0b9a\" class=\"colab-df-container\">\n",
              "    <div>\n",
              "<style scoped>\n",
              "    .dataframe tbody tr th:only-of-type {\n",
              "        vertical-align: middle;\n",
              "    }\n",
              "\n",
              "    .dataframe tbody tr th {\n",
              "        vertical-align: top;\n",
              "    }\n",
              "\n",
              "    .dataframe thead th {\n",
              "        text-align: right;\n",
              "    }\n",
              "</style>\n",
              "<table border=\"1\" class=\"dataframe\">\n",
              "  <thead>\n",
              "    <tr style=\"text-align: right;\">\n",
              "      <th></th>\n",
              "      <th>w1</th>\n",
              "      <th>w2</th>\n",
              "      <th>similarity_w2v</th>\n",
              "      <th>similarity_glove</th>\n",
              "      <th>similarity_golden</th>\n",
              "    </tr>\n",
              "  </thead>\n",
              "  <tbody>\n",
              "    <tr>\n",
              "      <th>0</th>\n",
              "      <td>vanish</td>\n",
              "      <td>disappear</td>\n",
              "      <td>0.900423</td>\n",
              "      <td>0.881494</td>\n",
              "      <td>9.80</td>\n",
              "    </tr>\n",
              "    <tr>\n",
              "      <th>1</th>\n",
              "      <td>quick</td>\n",
              "      <td>rapid</td>\n",
              "      <td>0.497791</td>\n",
              "      <td>0.561225</td>\n",
              "      <td>9.70</td>\n",
              "    </tr>\n",
              "    <tr>\n",
              "      <th>2</th>\n",
              "      <td>creator</td>\n",
              "      <td>maker</td>\n",
              "      <td>0.260506</td>\n",
              "      <td>0.243845</td>\n",
              "      <td>9.62</td>\n",
              "    </tr>\n",
              "    <tr>\n",
              "      <th>3</th>\n",
              "      <td>stupid</td>\n",
              "      <td>dumb</td>\n",
              "      <td>0.817314</td>\n",
              "      <td>0.836065</td>\n",
              "      <td>9.58</td>\n",
              "    </tr>\n",
              "    <tr>\n",
              "      <th>4</th>\n",
              "      <td>insane</td>\n",
              "      <td>crazy</td>\n",
              "      <td>0.733904</td>\n",
              "      <td>0.591737</td>\n",
              "      <td>9.57</td>\n",
              "    </tr>\n",
              "  </tbody>\n",
              "</table>\n",
              "</div>\n",
              "    <div class=\"colab-df-buttons\">\n",
              "\n",
              "  <div class=\"colab-df-container\">\n",
              "    <button class=\"colab-df-convert\" onclick=\"convertToInteractive('df-2a925a83-4ac0-486e-91d3-5693fd4b0b9a')\"\n",
              "            title=\"Convert this dataframe to an interactive table.\"\n",
              "            style=\"display:none;\">\n",
              "\n",
              "  <svg xmlns=\"http://www.w3.org/2000/svg\" height=\"24px\" viewBox=\"0 -960 960 960\">\n",
              "    <path d=\"M120-120v-720h720v720H120Zm60-500h600v-160H180v160Zm220 220h160v-160H400v160Zm0 220h160v-160H400v160ZM180-400h160v-160H180v160Zm440 0h160v-160H620v160ZM180-180h160v-160H180v160Zm440 0h160v-160H620v160Z\"/>\n",
              "  </svg>\n",
              "    </button>\n",
              "\n",
              "  <style>\n",
              "    .colab-df-container {\n",
              "      display:flex;\n",
              "      gap: 12px;\n",
              "    }\n",
              "\n",
              "    .colab-df-convert {\n",
              "      background-color: #E8F0FE;\n",
              "      border: none;\n",
              "      border-radius: 50%;\n",
              "      cursor: pointer;\n",
              "      display: none;\n",
              "      fill: #1967D2;\n",
              "      height: 32px;\n",
              "      padding: 0 0 0 0;\n",
              "      width: 32px;\n",
              "    }\n",
              "\n",
              "    .colab-df-convert:hover {\n",
              "      background-color: #E2EBFA;\n",
              "      box-shadow: 0px 1px 2px rgba(60, 64, 67, 0.3), 0px 1px 3px 1px rgba(60, 64, 67, 0.15);\n",
              "      fill: #174EA6;\n",
              "    }\n",
              "\n",
              "    .colab-df-buttons div {\n",
              "      margin-bottom: 4px;\n",
              "    }\n",
              "\n",
              "    [theme=dark] .colab-df-convert {\n",
              "      background-color: #3B4455;\n",
              "      fill: #D2E3FC;\n",
              "    }\n",
              "\n",
              "    [theme=dark] .colab-df-convert:hover {\n",
              "      background-color: #434B5C;\n",
              "      box-shadow: 0px 1px 3px 1px rgba(0, 0, 0, 0.15);\n",
              "      filter: drop-shadow(0px 1px 2px rgba(0, 0, 0, 0.3));\n",
              "      fill: #FFFFFF;\n",
              "    }\n",
              "  </style>\n",
              "\n",
              "    <script>\n",
              "      const buttonEl =\n",
              "        document.querySelector('#df-2a925a83-4ac0-486e-91d3-5693fd4b0b9a button.colab-df-convert');\n",
              "      buttonEl.style.display =\n",
              "        google.colab.kernel.accessAllowed ? 'block' : 'none';\n",
              "\n",
              "      async function convertToInteractive(key) {\n",
              "        const element = document.querySelector('#df-2a925a83-4ac0-486e-91d3-5693fd4b0b9a');\n",
              "        const dataTable =\n",
              "          await google.colab.kernel.invokeFunction('convertToInteractive',\n",
              "                                                    [key], {});\n",
              "        if (!dataTable) return;\n",
              "\n",
              "        const docLinkHtml = 'Like what you see? Visit the ' +\n",
              "          '<a target=\"_blank\" href=https://colab.research.google.com/notebooks/data_table.ipynb>data table notebook</a>'\n",
              "          + ' to learn more about interactive tables.';\n",
              "        element.innerHTML = '';\n",
              "        dataTable['output_type'] = 'display_data';\n",
              "        await google.colab.output.renderOutput(dataTable, element);\n",
              "        const docLink = document.createElement('div');\n",
              "        docLink.innerHTML = docLinkHtml;\n",
              "        element.appendChild(docLink);\n",
              "      }\n",
              "    </script>\n",
              "  </div>\n",
              "\n",
              "\n",
              "<div id=\"df-e52ec5e2-d08b-45de-a2ec-821d07e104e8\">\n",
              "  <button class=\"colab-df-quickchart\" onclick=\"quickchart('df-e52ec5e2-d08b-45de-a2ec-821d07e104e8')\"\n",
              "            title=\"Suggest charts\"\n",
              "            style=\"display:none;\">\n",
              "\n",
              "<svg xmlns=\"http://www.w3.org/2000/svg\" height=\"24px\"viewBox=\"0 0 24 24\"\n",
              "     width=\"24px\">\n",
              "    <g>\n",
              "        <path d=\"M19 3H5c-1.1 0-2 .9-2 2v14c0 1.1.9 2 2 2h14c1.1 0 2-.9 2-2V5c0-1.1-.9-2-2-2zM9 17H7v-7h2v7zm4 0h-2V7h2v10zm4 0h-2v-4h2v4z\"/>\n",
              "    </g>\n",
              "</svg>\n",
              "  </button>\n",
              "\n",
              "<style>\n",
              "  .colab-df-quickchart {\n",
              "      --bg-color: #E8F0FE;\n",
              "      --fill-color: #1967D2;\n",
              "      --hover-bg-color: #E2EBFA;\n",
              "      --hover-fill-color: #174EA6;\n",
              "      --disabled-fill-color: #AAA;\n",
              "      --disabled-bg-color: #DDD;\n",
              "  }\n",
              "\n",
              "  [theme=dark] .colab-df-quickchart {\n",
              "      --bg-color: #3B4455;\n",
              "      --fill-color: #D2E3FC;\n",
              "      --hover-bg-color: #434B5C;\n",
              "      --hover-fill-color: #FFFFFF;\n",
              "      --disabled-bg-color: #3B4455;\n",
              "      --disabled-fill-color: #666;\n",
              "  }\n",
              "\n",
              "  .colab-df-quickchart {\n",
              "    background-color: var(--bg-color);\n",
              "    border: none;\n",
              "    border-radius: 50%;\n",
              "    cursor: pointer;\n",
              "    display: none;\n",
              "    fill: var(--fill-color);\n",
              "    height: 32px;\n",
              "    padding: 0;\n",
              "    width: 32px;\n",
              "  }\n",
              "\n",
              "  .colab-df-quickchart:hover {\n",
              "    background-color: var(--hover-bg-color);\n",
              "    box-shadow: 0 1px 2px rgba(60, 64, 67, 0.3), 0 1px 3px 1px rgba(60, 64, 67, 0.15);\n",
              "    fill: var(--button-hover-fill-color);\n",
              "  }\n",
              "\n",
              "  .colab-df-quickchart-complete:disabled,\n",
              "  .colab-df-quickchart-complete:disabled:hover {\n",
              "    background-color: var(--disabled-bg-color);\n",
              "    fill: var(--disabled-fill-color);\n",
              "    box-shadow: none;\n",
              "  }\n",
              "\n",
              "  .colab-df-spinner {\n",
              "    border: 2px solid var(--fill-color);\n",
              "    border-color: transparent;\n",
              "    border-bottom-color: var(--fill-color);\n",
              "    animation:\n",
              "      spin 1s steps(1) infinite;\n",
              "  }\n",
              "\n",
              "  @keyframes spin {\n",
              "    0% {\n",
              "      border-color: transparent;\n",
              "      border-bottom-color: var(--fill-color);\n",
              "      border-left-color: var(--fill-color);\n",
              "    }\n",
              "    20% {\n",
              "      border-color: transparent;\n",
              "      border-left-color: var(--fill-color);\n",
              "      border-top-color: var(--fill-color);\n",
              "    }\n",
              "    30% {\n",
              "      border-color: transparent;\n",
              "      border-left-color: var(--fill-color);\n",
              "      border-top-color: var(--fill-color);\n",
              "      border-right-color: var(--fill-color);\n",
              "    }\n",
              "    40% {\n",
              "      border-color: transparent;\n",
              "      border-right-color: var(--fill-color);\n",
              "      border-top-color: var(--fill-color);\n",
              "    }\n",
              "    60% {\n",
              "      border-color: transparent;\n",
              "      border-right-color: var(--fill-color);\n",
              "    }\n",
              "    80% {\n",
              "      border-color: transparent;\n",
              "      border-right-color: var(--fill-color);\n",
              "      border-bottom-color: var(--fill-color);\n",
              "    }\n",
              "    90% {\n",
              "      border-color: transparent;\n",
              "      border-bottom-color: var(--fill-color);\n",
              "    }\n",
              "  }\n",
              "</style>\n",
              "\n",
              "  <script>\n",
              "    async function quickchart(key) {\n",
              "      const quickchartButtonEl =\n",
              "        document.querySelector('#' + key + ' button');\n",
              "      quickchartButtonEl.disabled = true;  // To prevent multiple clicks.\n",
              "      quickchartButtonEl.classList.add('colab-df-spinner');\n",
              "      try {\n",
              "        const charts = await google.colab.kernel.invokeFunction(\n",
              "            'suggestCharts', [key], {});\n",
              "      } catch (error) {\n",
              "        console.error('Error during call to suggestCharts:', error);\n",
              "      }\n",
              "      quickchartButtonEl.classList.remove('colab-df-spinner');\n",
              "      quickchartButtonEl.classList.add('colab-df-quickchart-complete');\n",
              "    }\n",
              "    (() => {\n",
              "      let quickchartButtonEl =\n",
              "        document.querySelector('#df-e52ec5e2-d08b-45de-a2ec-821d07e104e8 button');\n",
              "      quickchartButtonEl.style.display =\n",
              "        google.colab.kernel.accessAllowed ? 'block' : 'none';\n",
              "    })();\n",
              "  </script>\n",
              "</div>\n",
              "\n",
              "    </div>\n",
              "  </div>\n"
            ],
            "application/vnd.google.colaboratory.intrinsic+json": {
              "type": "dataframe",
              "variable_name": "similarities",
              "summary": "{\n  \"name\": \"similarities\",\n  \"rows\": 50,\n  \"fields\": [\n    {\n      \"column\": \"w1\",\n      \"properties\": {\n        \"dtype\": \"string\",\n        \"num_unique_values\": 47,\n        \"samples\": [\n          \"cop\",\n          \"decide\",\n          \"adversary\"\n        ],\n        \"semantic_type\": \"\",\n        \"description\": \"\"\n      }\n    },\n    {\n      \"column\": \"w2\",\n      \"properties\": {\n        \"dtype\": \"string\",\n        \"num_unique_values\": 48,\n        \"samples\": [\n          \"border\",\n          \"choose\",\n          \"beg\"\n        ],\n        \"semantic_type\": \"\",\n        \"description\": \"\"\n      }\n    },\n    {\n      \"column\": \"similarity_w2v\",\n      \"properties\": {\n        \"dtype\": \"float32\",\n        \"num_unique_values\": 50,\n        \"samples\": [\n          0.5123260021209717,\n          0.7806020975112915,\n          0.7307426929473877\n        ],\n        \"semantic_type\": \"\",\n        \"description\": \"\"\n      }\n    },\n    {\n      \"column\": \"similarity_glove\",\n      \"properties\": {\n        \"dtype\": \"float32\",\n        \"num_unique_values\": 50,\n        \"samples\": [\n          0.4868016242980957,\n          0.7673240900039673,\n          0.8156485557556152\n        ],\n        \"semantic_type\": \"\",\n        \"description\": \"\"\n      }\n    },\n    {\n      \"column\": \"similarity_golden\",\n      \"properties\": {\n        \"dtype\": \"number\",\n        \"std\": 0.2733454120443843,\n        \"min\": 8.78,\n        \"max\": 9.8,\n        \"num_unique_values\": 28,\n        \"samples\": [\n          9.37,\n          8.83,\n          9.4\n        ],\n        \"semantic_type\": \"\",\n        \"description\": \"\"\n      }\n    }\n  ]\n}"
            }
          },
          "metadata": {},
          "execution_count": 38
        }
      ],
      "source": [
        "similarities.head()"
      ]
    },
    {
      "cell_type": "code",
      "execution_count": 39,
      "metadata": {
        "id": "u7iAHojcz-oJ",
        "outputId": "61cba234-1f5a-4a82-fe2c-45303a74e358",
        "colab": {
          "base_uri": "https://localhost:8080/",
          "height": 501
        }
      },
      "outputs": [
        {
          "output_type": "display_data",
          "data": {
            "text/plain": [
              "<Figure size 631.125x500 with 1 Axes>"
            ],
            "image/png": "[encoded data removed]"
          },
          "metadata": {}
        }
      ],
      "source": [
        "# plots the distribution of similarity scores for each model\n",
        "sims_w2v = similarities[['similarity_w2v']].rename(columns = {'similarity_w2v': 'similarity'})\n",
        "sims_w2v['model'] = 'Word2vec'\n",
        "sims_glove = similarities[['similarity_glove']].rename(columns = {'similarity_glove': 'similarity'})\n",
        "sims_glove['model'] = 'GloVe'\n",
        "to_plot = pd.concat([sims_w2v, sims_glove], ignore_index=True)\n",
        "sns.displot(to_plot, x=\"similarity\", hue=\"model\", kind=\"kde\")\n",
        "plt.show()"
      ]
    },
    {
      "cell_type": "markdown",
      "metadata": {
        "id": "YCV0YCiVz-oJ"
      },
      "source": [
        "<div style=\"padding:8px 0 8px 15px;border-left:3px solid gray;background-color:#F3F3F3;color:#424242;\">\n",
        "\n",
        "#### Extra quiz:\n",
        "Think about which model seems to perform better on these high-similarity examples and why based on your knowledge of how the embedding models have been trained.\n",
        "\n",
        "</div>"
      ]
    },
    {
      "cell_type": "markdown",
      "metadata": {
        "id": "STFIey1Sz-oJ"
      },
      "source": [
        "**Answer**: We can see from the plot that GloVe distribution is shifted right indicating that it generally assigns higher similarity scores to words that have high similarity (i.e. according to SimLex corpus). This could be due to the fact that GloVe leverages global co-occurrence statistics of words while Word2Vec only considers the local contexts."
      ]
    },
    {
      "cell_type": "markdown",
      "metadata": {
        "id": "BWRVjHRlz-oJ"
      },
      "source": [
        "----"
      ]
    },
    {
      "cell_type": "markdown",
      "metadata": {
        "id": "9g3g2uELz-oK"
      },
      "source": [
        "<a id=\"3\"></a>\n",
        "## 3. TASK C: Sentiment analysis of movie reviews\n",
        "\n",
        "For this part, we will be using only the GloVe pre-trained embeddings.\n",
        "\n",
        "**Data:** We will build a sentiment classification model using the IMDB review dataset.\n",
        "\n",
        "> - Download the dataset [here](https://www.kaggle.com/datasets/lakshmi25npathi/imdb-dataset-of-50k-movie-reviews/download?datasetVersionNumber=1)\n",
        "> - Save the .csv file in the same dir as this notebook.\n",
        "\n",
        "The IMDB dataset has 50K movie reviews for natural language processing or Text analytics. This is a dataset for binary sentiment classification containing substantially more data than previous benchmark datasets. We provide a set of 25,000 highly polar movie reviews for training and 25,000 for testing.\n",
        "\n",
        "The goal is to predict if a review is positive or negative using a classification (potentiall deep learning) algorithm.\n",
        "\n",
        "For more dataset information, please go through the following link,\n",
        "http://ai.stanford.edu/~amaas/data/sentiment/"
      ]
    },
    {
      "cell_type": "markdown",
      "metadata": {
        "id": "begFc2dzz-oK"
      },
      "source": [
        "![IMDB-reviews-dataset-stats.png](attachment:IMDB-reviews-dataset-stats.png)"
      ]
    },
    {
      "cell_type": "markdown",
      "metadata": {
        "id": "lrSUjj8mz-oK"
      },
      "source": [
        "### 3.1 Dataset exploration"
      ]
    },
    {
      "cell_type": "code",
      "execution_count": 71,
      "metadata": {
        "id": "11MFu6IXz-oK",
        "outputId": "9ee2d451-496b-46df-d714-a3819fb0e296",
        "colab": {
          "base_uri": "https://localhost:8080/",
          "height": 206
        }
      },
      "outputs": [
        {
          "output_type": "execute_result",
          "data": {
            "text/plain": [
              "                                              review sentiment\n",
              "0  One of the other reviewers has mentioned that ...  positive\n",
              "1  A wonderful little production. <br /><br />The...  positive\n",
              "2  I thought this was a wonderful way to spend ti...  positive\n",
              "3  Basically there's a family where a little boy ...  negative\n",
              "4  Petter Mattei's \"Love in the Time of Money\" is...  positive"
            ],
            "text/html": [
              "\n",
              "  <div id=\"df-95cb001b-d561-4843-922f-f4b809c2c688\" class=\"colab-df-container\">\n",
              "    <div>\n",
              "<style scoped>\n",
              "    .dataframe tbody tr th:only-of-type {\n",
              "        vertical-align: middle;\n",
              "    }\n",
              "\n",
              "    .dataframe tbody tr th {\n",
              "        vertical-align: top;\n",
              "    }\n",
              "\n",
              "    .dataframe thead th {\n",
              "        text-align: right;\n",
              "    }\n",
              "</style>\n",
              "<table border=\"1\" class=\"dataframe\">\n",
              "  <thead>\n",
              "    <tr style=\"text-align: right;\">\n",
              "      <th></th>\n",
              "      <th>review</th>\n",
              "      <th>sentiment</th>\n",
              "    </tr>\n",
              "  </thead>\n",
              "  <tbody>\n",
              "    <tr>\n",
              "      <th>0</th>\n",
              "      <td>One of the other reviewers has mentioned that ...</td>\n",
              "      <td>positive</td>\n",
              "    </tr>\n",
              "    <tr>\n",
              "      <th>1</th>\n",
              "      <td>A wonderful little production. &lt;br /&gt;&lt;br /&gt;The...</td>\n",
              "      <td>positive</td>\n",
              "    </tr>\n",
              "    <tr>\n",
              "      <th>2</th>\n",
              "      <td>I thought this was a wonderful way to spend ti...</td>\n",
              "      <td>positive</td>\n",
              "    </tr>\n",
              "    <tr>\n",
              "      <th>3</th>\n",
              "      <td>Basically there's a family where a little boy ...</td>\n",
              "      <td>negative</td>\n",
              "    </tr>\n",
              "    <tr>\n",
              "      <th>4</th>\n",
              "      <td>Petter Mattei's \"Love in the Time of Money\" is...</td>\n",
              "      <td>positive</td>\n",
              "    </tr>\n",
              "  </tbody>\n",
              "</table>\n",
              "</div>\n",
              "    <div class=\"colab-df-buttons\">\n",
              "\n",
              "  <div class=\"colab-df-container\">\n",
              "    <button class=\"colab-df-convert\" onclick=\"convertToInteractive('df-95cb001b-d561-4843-922f-f4b809c2c688')\"\n",
              "            title=\"Convert this dataframe to an interactive table.\"\n",
              "            style=\"display:none;\">\n",
              "\n",
              "  <svg xmlns=\"http://www.w3.org/2000/svg\" height=\"24px\" viewBox=\"0 -960 960 960\">\n",
              "    <path d=\"M120-120v-720h720v720H120Zm60-500h600v-160H180v160Zm220 220h160v-160H400v160Zm0 220h160v-160H400v160ZM180-400h160v-160H180v160Zm440 0h160v-160H620v160ZM180-180h160v-160H180v160Zm440 0h160v-160H620v160Z\"/>\n",
              "  </svg>\n",
              "    </button>\n",
              "\n",
              "  <style>\n",
              "    .colab-df-container {\n",
              "      display:flex;\n",
              "      gap: 12px;\n",
              "    }\n",
              "\n",
              "    .colab-df-convert {\n",
              "      background-color: #E8F0FE;\n",
              "      border: none;\n",
              "      border-radius: 50%;\n",
              "      cursor: pointer;\n",
              "      display: none;\n",
              "      fill: #1967D2;\n",
              "      height: 32px;\n",
              "      padding: 0 0 0 0;\n",
              "      width: 32px;\n",
              "    }\n",
              "\n",
              "    .colab-df-convert:hover {\n",
              "      background-color: #E2EBFA;\n",
              "      box-shadow: 0px 1px 2px rgba(60, 64, 67, 0.3), 0px 1px 3px 1px rgba(60, 64, 67, 0.15);\n",
              "      fill: #174EA6;\n",
              "    }\n",
              "\n",
              "    .colab-df-buttons div {\n",
              "      margin-bottom: 4px;\n",
              "    }\n",
              "\n",
              "    [theme=dark] .colab-df-convert {\n",
              "      background-color: #3B4455;\n",
              "      fill: #D2E3FC;\n",
              "    }\n",
              "\n",
              "    [theme=dark] .colab-df-convert:hover {\n",
              "      background-color: #434B5C;\n",
              "      box-shadow: 0px 1px 3px 1px rgba(0, 0, 0, 0.15);\n",
              "      filter: drop-shadow(0px 1px 2px rgba(0, 0, 0, 0.3));\n",
              "      fill: #FFFFFF;\n",
              "    }\n",
              "  </style>\n",
              "\n",
              "    <script>\n",
              "      const buttonEl =\n",
              "        document.querySelector('#df-95cb001b-d561-4843-922f-f4b809c2c688 button.colab-df-convert');\n",
              "      buttonEl.style.display =\n",
              "        google.colab.kernel.accessAllowed ? 'block' : 'none';\n",
              "\n",
              "      async function convertToInteractive(key) {\n",
              "        const element = document.querySelector('#df-95cb001b-d561-4843-922f-f4b809c2c688');\n",
              "        const dataTable =\n",
              "          await google.colab.kernel.invokeFunction('convertToInteractive',\n",
              "                                                    [key], {});\n",
              "        if (!dataTable) return;\n",
              "\n",
              "        const docLinkHtml = 'Like what you see? Visit the ' +\n",
              "          '<a target=\"_blank\" href=https://colab.research.google.com/notebooks/data_table.ipynb>data table notebook</a>'\n",
              "          + ' to learn more about interactive tables.';\n",
              "        element.innerHTML = '';\n",
              "        dataTable['output_type'] = 'display_data';\n",
              "        await google.colab.output.renderOutput(dataTable, element);\n",
              "        const docLink = document.createElement('div');\n",
              "        docLink.innerHTML = docLinkHtml;\n",
              "        element.appendChild(docLink);\n",
              "      }\n",
              "    </script>\n",
              "  </div>\n",
              "\n",
              "\n",
              "<div id=\"df-e03ebe6d-d364-42b9-909e-567afbeea93b\">\n",
              "  <button class=\"colab-df-quickchart\" onclick=\"quickchart('df-e03ebe6d-d364-42b9-909e-567afbeea93b')\"\n",
              "            title=\"Suggest charts\"\n",
              "            style=\"display:none;\">\n",
              "\n",
              "<svg xmlns=\"http://www.w3.org/2000/svg\" height=\"24px\"viewBox=\"0 0 24 24\"\n",
              "     width=\"24px\">\n",
              "    <g>\n",
              "        <path d=\"M19 3H5c-1.1 0-2 .9-2 2v14c0 1.1.9 2 2 2h14c1.1 0 2-.9 2-2V5c0-1.1-.9-2-2-2zM9 17H7v-7h2v7zm4 0h-2V7h2v10zm4 0h-2v-4h2v4z\"/>\n",
              "    </g>\n",
              "</svg>\n",
              "  </button>\n",
              "\n",
              "<style>\n",
              "  .colab-df-quickchart {\n",
              "      --bg-color: #E8F0FE;\n",
              "      --fill-color: #1967D2;\n",
              "      --hover-bg-color: #E2EBFA;\n",
              "      --hover-fill-color: #174EA6;\n",
              "      --disabled-fill-color: #AAA;\n",
              "      --disabled-bg-color: #DDD;\n",
              "  }\n",
              "\n",
              "  [theme=dark] .colab-df-quickchart {\n",
              "      --bg-color: #3B4455;\n",
              "      --fill-color: #D2E3FC;\n",
              "      --hover-bg-color: #434B5C;\n",
              "      --hover-fill-color: #FFFFFF;\n",
              "      --disabled-bg-color: #3B4455;\n",
              "      --disabled-fill-color: #666;\n",
              "  }\n",
              "\n",
              "  .colab-df-quickchart {\n",
              "    background-color: var(--bg-color);\n",
              "    border: none;\n",
              "    border-radius: 50%;\n",
              "    cursor: pointer;\n",
              "    display: none;\n",
              "    fill: var(--fill-color);\n",
              "    height: 32px;\n",
              "    padding: 0;\n",
              "    width: 32px;\n",
              "  }\n",
              "\n",
              "  .colab-df-quickchart:hover {\n",
              "    background-color: var(--hover-bg-color);\n",
              "    box-shadow: 0 1px 2px rgba(60, 64, 67, 0.3), 0 1px 3px 1px rgba(60, 64, 67, 0.15);\n",
              "    fill: var(--button-hover-fill-color);\n",
              "  }\n",
              "\n",
              "  .colab-df-quickchart-complete:disabled,\n",
              "  .colab-df-quickchart-complete:disabled:hover {\n",
              "    background-color: var(--disabled-bg-color);\n",
              "    fill: var(--disabled-fill-color);\n",
              "    box-shadow: none;\n",
              "  }\n",
              "\n",
              "  .colab-df-spinner {\n",
              "    border: 2px solid var(--fill-color);\n",
              "    border-color: transparent;\n",
              "    border-bottom-color: var(--fill-color);\n",
              "    animation:\n",
              "      spin 1s steps(1) infinite;\n",
              "  }\n",
              "\n",
              "  @keyframes spin {\n",
              "    0% {\n",
              "      border-color: transparent;\n",
              "      border-bottom-color: var(--fill-color);\n",
              "      border-left-color: var(--fill-color);\n",
              "    }\n",
              "    20% {\n",
              "      border-color: transparent;\n",
              "      border-left-color: var(--fill-color);\n",
              "      border-top-color: var(--fill-color);\n",
              "    }\n",
              "    30% {\n",
              "      border-color: transparent;\n",
              "      border-left-color: var(--fill-color);\n",
              "      border-top-color: var(--fill-color);\n",
              "      border-right-color: var(--fill-color);\n",
              "    }\n",
              "    40% {\n",
              "      border-color: transparent;\n",
              "      border-right-color: var(--fill-color);\n",
              "      border-top-color: var(--fill-color);\n",
              "    }\n",
              "    60% {\n",
              "      border-color: transparent;\n",
              "      border-right-color: var(--fill-color);\n",
              "    }\n",
              "    80% {\n",
              "      border-color: transparent;\n",
              "      border-right-color: var(--fill-color);\n",
              "      border-bottom-color: var(--fill-color);\n",
              "    }\n",
              "    90% {\n",
              "      border-color: transparent;\n",
              "      border-bottom-color: var(--fill-color);\n",
              "    }\n",
              "  }\n",
              "</style>\n",
              "\n",
              "  <script>\n",
              "    async function quickchart(key) {\n",
              "      const quickchartButtonEl =\n",
              "        document.querySelector('#' + key + ' button');\n",
              "      quickchartButtonEl.disabled = true;  // To prevent multiple clicks.\n",
              "      quickchartButtonEl.classList.add('colab-df-spinner');\n",
              "      try {\n",
              "        const charts = await google.colab.kernel.invokeFunction(\n",
              "            'suggestCharts', [key], {});\n",
              "      } catch (error) {\n",
              "        console.error('Error during call to suggestCharts:', error);\n",
              "      }\n",
              "      quickchartButtonEl.classList.remove('colab-df-spinner');\n",
              "      quickchartButtonEl.classList.add('colab-df-quickchart-complete');\n",
              "    }\n",
              "    (() => {\n",
              "      let quickchartButtonEl =\n",
              "        document.querySelector('#df-e03ebe6d-d364-42b9-909e-567afbeea93b button');\n",
              "      quickchartButtonEl.style.display =\n",
              "        google.colab.kernel.accessAllowed ? 'block' : 'none';\n",
              "    })();\n",
              "  </script>\n",
              "</div>\n",
              "\n",
              "    </div>\n",
              "  </div>\n"
            ],
            "application/vnd.google.colaboratory.intrinsic+json": {
              "type": "dataframe",
              "variable_name": "movie_reviews",
              "summary": "{\n  \"name\": \"movie_reviews\",\n  \"rows\": 50000,\n  \"fields\": [\n    {\n      \"column\": \"review\",\n      \"properties\": {\n        \"dtype\": \"string\",\n        \"num_unique_values\": 49582,\n        \"samples\": [\n          \"\\\"Soul Plane\\\" is a horrible attempt at comedy that only should appeal people with thick skulls, bloodshot eyes and furry pawns. <br /><br />The plot is not only incoherent but also non-existent, acting is mostly sub sub-par with a gang of highly moronic and dreadful characters thrown in for bad measure, jokes are often spotted miles ahead and almost never even a bit amusing. This movie lacks any structure and is full of racial stereotypes that must have seemed old even in the fifties, the only thing it really has going for it is some pretty ladies, but really, if you want that you can rent something from the \\\"Adult\\\" section. OK?<br /><br />I can hardly see anything here to recommend since you'll probably have a lot a better and productive time chasing rats with a sledgehammer or inventing waterproof teabags or whatever.<br /><br />2/10\",\n          \"Guest from the Future tells a fascinating story of time travel, friendship, battle of good and evil -- all with a small budget, child actors, and few special effects. Something for Spielberg and Lucas to learn from. ;) A sixth-grader Kolya \\\"Nick\\\" Gerasimov finds a time machine in the basement of a decrepit building and travels 100 years into the future. He discovers a near-perfect, utopian society where robots play guitars and write poetry, everyone is kind to each other and people enjoy everything technology has to offer. Alice is the daughter of a prominent scientist who invented a device called Mielophone that allows to read minds of humans and animals. The device can be put to both good and bad use, depending on whose hands it falls into. When two evil space pirates from Saturn who want to rule the universe attempt to steal Mielophone, it falls into the hands of 20th century school boy Nick. With the pirates hot on his tracks, he travels back to his time, followed by the pirates, and Alice. Chaos, confusion and funny situations follow as the luckless pirates try to blend in with the earthlings. Alice enrolls in the same school Nick goes to and demonstrates superhuman abilities in PE class. The catch is, Alice doesn't know what Nick looks like, while the pirates do. Also, the pirates are able to change their appearance and turn literally into anyone. (Hmm, I wonder if this is where James Cameron got the idea for Terminator...) Who gets to Nick -- and Mielophone -- first? Excellent plot, non-stop adventures, and great soundtrack. I wish Hollywood made kid movies like this one...\",\n          \"\\\"National Treasure\\\" (2004) is a thoroughly misguided hodge-podge of plot entanglements that borrow from nearly every cloak and dagger government conspiracy clich\\u00e9 that has ever been written. The film stars Nicholas Cage as Benjamin Franklin Gates (how precious is that, I ask you?); a seemingly normal fellow who, for no other reason than being of a lineage of like-minded misguided fortune hunters, decides to steal a 'national treasure' that has been hidden by the United States founding fathers. After a bit of subtext and background that plays laughably (unintentionally) like Indiana Jones meets The Patriot, the film degenerates into one misguided whimsy after another \\u0096 attempting to create a 'Stanley Goodspeed' regurgitation of Nicholas Cage and launch the whole convoluted mess forward with a series of high octane, but disconnected misadventures.<br /><br />The relevancy and logic to having George Washington and his motley crew of patriots burying a king's ransom someplace on native soil, and then, going through the meticulous plan of leaving clues scattered throughout U.S. currency art work, is something that director Jon Turteltaub never quite gets around to explaining. Couldn't Washington found better usage for such wealth during the start up of the country? Hence, we are left with a mystery built on top of an enigma that is already on shaky ground by the time Ben appoints himself the new custodian of this untold wealth. Ben's intentions are noble \\u0096 if confusing. He's set on protecting the treasure. For who and when?\\u0085your guess is as good as mine.<br /><br />But there are a few problems with Ben's crusade. First up, his friend, Ian Holmes (Sean Bean) decides that he can't wait for Ben to make up his mind about stealing the Declaration of Independence from the National Archives (oh, yeah \\u0096 brilliant idea!). Presumably, the back of that famous document holds the secret answer to the ultimate fortune. So Ian tries to kill Ben. The assassination attempt is, of course, unsuccessful, if overly melodramatic. It also affords Ben the opportunity to pick up, and pick on, the very sultry curator of the archives, Abigail Chase (Diane Kruger). She thinks Ben is clearly a nut \\u0096 at least at the beginning. But true to action/romance form, Abby's resolve melts quicker than you can say, \\\"is that the Hope Diamond?\\\" The film moves into full X-File-ish mode, as the FBI, mistakenly believing that Ben is behind the theft, retaliate in various benign ways that lead to a multi-layering of action sequences reminiscent of Mission Impossible meets The Fugitive. Honestly, don't those guys ever get 'intelligence' information that is correct? In the final analysis, \\\"National Treasure\\\" isn't great film making, so much as it's a patchwork rehash of tired old bits from other movies, woven together from scraps, the likes of which would make IL' Betsy Ross blush.<br /><br />The Buena Vista DVD delivers a far more generous treatment than this film is deserving of. The anamorphic widescreen picture exhibits a very smooth and finely detailed image with very rich colors, natural flesh tones, solid blacks and clean whites. The stylized image is also free of blemishes and digital enhancements. The audio is 5.1 and delivers a nice sonic boom to your side and rear speakers with intensity and realism. Extras include a host of promotional junket material that is rather deep and over the top in its explanation of how and why this film was made. If only, as an audience, we had had more clarification as to why Ben and co. were chasing after an illusive treasure, this might have been one good flick. Extras conclude with the theatrical trailer, audio commentary and deleted scenes. Not for the faint-hearted \\u0096 just the thick-headed.\"\n        ],\n        \"semantic_type\": \"\",\n        \"description\": \"\"\n      }\n    },\n    {\n      \"column\": \"sentiment\",\n      \"properties\": {\n        \"dtype\": \"category\",\n        \"num_unique_values\": 2,\n        \"samples\": [\n          \"negative\",\n          \"positive\"\n        ],\n        \"semantic_type\": \"\",\n        \"description\": \"\"\n      }\n    }\n  ]\n}"
            }
          },
          "metadata": {},
          "execution_count": 71
        }
      ],
      "source": [
        "#read dataset\n",
        "movie_reviews = pd.read_csv('IMDB Dataset.csv')\n",
        "movie_reviews.head()"
      ]
    },
    {
      "cell_type": "code",
      "execution_count": 72,
      "metadata": {
        "id": "EH8ovJynz-oK",
        "outputId": "3cf42ca2-df77-4c95-c0a8-9cda995cc212",
        "colab": {
          "base_uri": "https://localhost:8080/"
        }
      },
      "outputs": [
        {
          "output_type": "stream",
          "name": "stdout",
          "text": [
            "Number of movie reviews: 50000\n",
            "Number of classes: 2 with values: ['positive' 'negative']\n"
          ]
        }
      ],
      "source": [
        "print('Number of movie reviews: {}'.format(len(movie_reviews)))\n",
        "classes = movie_reviews['sentiment'].unique()\n",
        "print('Number of classes: {} with values: {}'.format(len(classes), classes))"
      ]
    },
    {
      "cell_type": "code",
      "execution_count": 73,
      "metadata": {
        "id": "1CW83QMnz-oK",
        "outputId": "8e51b23a-3750-4af1-8e10-0249d0f99ba7",
        "colab": {
          "base_uri": "https://localhost:8080/",
          "height": 530
        }
      },
      "outputs": [
        {
          "output_type": "stream",
          "name": "stdout",
          "text": [
            "# of positive samples: 25000\n",
            "# of negative samples: 25000\n"
          ]
        },
        {
          "output_type": "display_data",
          "data": {
            "text/plain": [
              "<Figure size 570x527 with 1 Axes>"
            ],
            "image/png": "[encoded data removed]"
          },
          "metadata": {}
        }
      ],
      "source": [
        "# class distribution\n",
        "positive = len(movie_reviews[movie_reviews['sentiment']=='positive'])\n",
        "negative = len(movie_reviews[movie_reviews['sentiment']=='negative'])\n",
        "\n",
        "print('# of positive samples: {}'.format(positive))\n",
        "print('# of negative samples: {}'.format(negative))\n",
        "\n",
        "sns.set_theme(rc={'figure.figsize':(5.7,5.27)})\n",
        "sns.countplot(x=movie_reviews['sentiment'])\n",
        "plt.show()"
      ]
    },
    {
      "cell_type": "markdown",
      "metadata": {
        "id": "Ixkld9fWz-oK"
      },
      "source": [
        "### 3.2 Data preprocessing\n",
        "\n",
        "To build our classifier, we will leverage the pre-trained word embeddings (GloVe). Going from word embeddings to sentence vectors, we will need to find a way to take into account the embeddings of all the words each review contains. We will apply 2 techniques to do so: average and max pooling.  \n",
        "\n",
        "We will perform the following preprocessing steps:\n",
        "- Change the classes from str (negative, positive) to binary `(0, 1)`.\n",
        "- Get word embeddings and calculate the sentence vectors with both max and avg pooling.\n",
        "- Create a `pytorch.Dataset` instance of the IMDB data."
      ]
    },
    {
      "cell_type": "markdown",
      "metadata": {
        "id": "SQ1Ih-nrz-oK"
      },
      "source": [
        "#### From class names to binary"
      ]
    },
    {
      "cell_type": "markdown",
      "metadata": {
        "id": "oRWxujtLz-oK"
      },
      "source": [
        "<div style=\"padding:8px 0 8px 15px;border-left:3px solid #03befc;background-color:#F3F3F3;color:#424242;\">\n",
        "\n",
        "- 🎯 **Goal:** Change the classe names from str (negative, positive) to binary `(0, 1)` and add it as a new column to the exising dataframe.\n",
        "\n",
        "</div>"
      ]
    },
    {
      "cell_type": "code",
      "execution_count": 74,
      "metadata": {
        "id": "9QGt3snTz-oL"
      },
      "outputs": [],
      "source": [
        "# classes to binary\n",
        "movie_reviews['target'] = movie_reviews['sentiment'].apply(lambda class_name: 1.0 if class_name=='positive' else 0.0)"
      ]
    },
    {
      "cell_type": "markdown",
      "metadata": {
        "id": "vhStzGVVz-oL"
      },
      "source": [
        "#### From word embeddings to review embeddings"
      ]
    },
    {
      "cell_type": "markdown",
      "metadata": {
        "id": "PPCM3lhGz-oL"
      },
      "source": [
        "<div style=\"padding:8px 0 8px 15px;border-left:3px solid #03befc;background-color:#F3F3F3;color:#424242;\">\n",
        "\n",
        "- 🎯 **Goal:** For each review in the dataset, calculate the review vector by pooling from the review's word embeddings. Implement both max and avg pooling.\n",
        "- 💻 **API:** You can use numpy functions to manipulate the arrays. For review tokenization you can use `gensim.utils.tokenize` function.\n",
        "\n",
        "</div>"
      ]
    },
    {
      "cell_type": "code",
      "execution_count": 75,
      "metadata": {
        "id": "UpqDcCAaz-oL",
        "outputId": "7b031d13-7000-4d59-93e1-3353a2fe3b64",
        "colab": {
          "base_uri": "https://localhost:8080/"
        }
      },
      "outputs": [
        {
          "output_type": "stream",
          "name": "stderr",
          "text": [
            "50000it [00:52, 958.46it/s] \n"
          ]
        }
      ],
      "source": [
        "# apply embedding model to reviews\n",
        "review_vectors_max = list()\n",
        "review_vectors_avg = list()\n",
        "for _, row in tqdm(movie_reviews.iterrows()):\n",
        "\n",
        "    # tokenize sentence\n",
        "    tokens = list(tokenize(row['review'], deacc = True))\n",
        "    word_vectors = list()\n",
        "    for token in tokens:\n",
        "\n",
        "        # get the pre-trained embedding for the token\n",
        "        if token.lower() in glove_vectors.key_to_index.keys():\n",
        "            vector = glove_vectors[token.lower()]\n",
        "            word_vectors.append(vector)\n",
        "\n",
        "    # for all word embeddings => compute the sentence embedding (both by summing and averaging word embeedings)\n",
        "    review_vec_max = np.array(word_vectors).max(axis=0)\n",
        "    review_vec_avg = np.array(word_vectors).mean(axis=0)\n",
        "    review_vectors_max.append(review_vec_max)\n",
        "    review_vectors_avg.append(review_vec_avg)\n",
        "\n",
        "# transform to arrays\n",
        "review_vectors_max = np.array(review_vectors_max)\n",
        "review_vectors_avg = np.array(review_vectors_avg)"
      ]
    },
    {
      "cell_type": "markdown",
      "metadata": {
        "id": "sEKEhlzIz-oL"
      },
      "source": [
        "#### Pytorch Dataset class for the imported data"
      ]
    },
    {
      "cell_type": "markdown",
      "metadata": {
        "id": "6INj3o7mz-oL"
      },
      "source": [
        "<div style=\"padding:8px 0 8px 15px;border-left:3px solid #03befc;background-color:#F3F3F3;color:#424242;\">\n",
        "\n",
        "- 🎯 **Goal:** Create a pytorch Dataset class with the input data. Instantiate this class with the input data.\n",
        "- 💻 **API:** You can use `torch.utils.data.Dataset` class.\n",
        "\n",
        "</div>"
      ]
    },
    {
      "cell_type": "code",
      "execution_count": 76,
      "metadata": {
        "id": "xL66PmySz-oL"
      },
      "outputs": [],
      "source": [
        "# create a pytorch Dataset class for our imported data\n",
        "class IMDBreviews(Dataset):\n",
        "    def __init__(self,review_vectors, targets):\n",
        "        self.x=torch.tensor(review_vectors)\n",
        "        self.y=torch.tensor(targets)\n",
        "\n",
        "    def __len__(self):\n",
        "        return len(self.y)\n",
        "\n",
        "    def __getitem__(self,idx):\n",
        "        return self.x[idx],self.y[idx]\n",
        "\n",
        "dataset = IMDBreviews(review_vectors_avg, movie_reviews['target'].values)"
      ]
    },
    {
      "cell_type": "code",
      "execution_count": 77,
      "metadata": {
        "id": "K1MsbvJYz-oL",
        "outputId": "602d493c-f5dd-4842-f573-cb09c901a3d3",
        "colab": {
          "base_uri": "https://localhost:8080/"
        }
      },
      "outputs": [
        {
          "output_type": "stream",
          "name": "stdout",
          "text": [
            "Total samples 50000 with sentence embedding size: 100\n"
          ]
        }
      ],
      "source": [
        "# print tensors for sanity check\n",
        "print('Total samples {} with sentence embedding size: {}'.format(dataset.x.shape[0], dataset.x.shape[1]))"
      ]
    },
    {
      "cell_type": "markdown",
      "metadata": {
        "id": "q4nyPeeyz-oM"
      },
      "source": [
        "#### Splitting dataset to train and test subsets"
      ]
    },
    {
      "cell_type": "markdown",
      "metadata": {
        "id": "m_vXTmCgz-oM"
      },
      "source": [
        "<div style=\"padding:8px 0 8px 15px;border-left:3px solid #03befc;background-color:#F3F3F3;color:#424242;\">\n",
        "\n",
        "- 🎯 **Goal:** Split the dataset into train and test tests (80-20% splits).\n",
        "- 💻 **API:** You can use `torch.utils.data.random_split` function.\n",
        "\n",
        "</div>"
      ]
    },
    {
      "cell_type": "code",
      "execution_count": 78,
      "metadata": {
        "id": "t8r7WIMIz-oM"
      },
      "outputs": [],
      "source": [
        "# split to train and test sets\n",
        "train_size = int(len(dataset) * 0.8)\n",
        "test_size = int(len(dataset) * 0.2)\n",
        "train, test = torch.utils.data.random_split(dataset, [train_size, test_size])"
      ]
    },
    {
      "cell_type": "code",
      "execution_count": 79,
      "metadata": {
        "id": "EBmZY2L9z-oM",
        "outputId": "18ff2b7f-2ecc-4a50-935f-d3c3bc968058",
        "colab": {
          "base_uri": "https://localhost:8080/"
        }
      },
      "outputs": [
        {
          "output_type": "stream",
          "name": "stdout",
          "text": [
            "Train size: 40000\n",
            "Test size: 10000\n"
          ]
        }
      ],
      "source": [
        "print('Train size: {}'.format(len(train)))\n",
        "print('Test size: {}'.format(len(test)))"
      ]
    },
    {
      "cell_type": "markdown",
      "metadata": {
        "id": "En9nYhcKz-oM"
      },
      "source": [
        "### 3.3 Train & evaluate a classifier on the movie reviews\n",
        "\n",
        "Once we have proprocessed the data, we will create the training and evaluation pipelines.\n"
      ]
    },
    {
      "cell_type": "markdown",
      "metadata": {
        "id": "IAYw2BQOz-oM"
      },
      "source": [
        "#### Pytorch Module class for model setup"
      ]
    },
    {
      "cell_type": "markdown",
      "metadata": {
        "id": "-fCJ1MMKz-oM"
      },
      "source": [
        "<div style=\"padding:8px 0 8px 15px;border-left:3px solid #03befc;background-color:#F3F3F3;color:#424242;\">\n",
        "\n",
        "- 🎯 **Goal:** Create a pytorch model class. The architecture of the model can be as simple as a Linear layer along with a sigmoid activation function, or a more complicated deep architecture. Play around with different settings and architectures.\n",
        "- 💻 **API:** You can use `torch.nn.Module` class.\n",
        "\n",
        "</div>"
      ]
    },
    {
      "cell_type": "code",
      "execution_count": 80,
      "metadata": {
        "id": "aYgXqDjRz-oM"
      },
      "outputs": [],
      "source": [
        "# create a pytorch nn.Module class for the simple NN model\n",
        "class SentimentAnalysisModel(nn.Module):\n",
        "\n",
        "    def __init__(self, features):\n",
        "        super(SentimentAnalysisModel, self).__init__()\n",
        "        self.linear = nn.Linear(features.shape[1], 1)\n",
        "\n",
        "    def forward(self, text, offsets):\n",
        "        out = torch.sigmoid(self.linear(text))\n",
        "        return out"
      ]
    },
    {
      "cell_type": "code",
      "execution_count": 81,
      "metadata": {
        "id": "trKaAen2z-oM",
        "outputId": "3578ffec-e5ac-4ef7-916b-460de0993194",
        "colab": {
          "base_uri": "https://localhost:8080/"
        }
      },
      "outputs": [
        {
          "output_type": "execute_result",
          "data": {
            "text/plain": [
              "SentimentAnalysisModel(\n",
              "  (linear): Linear(in_features=100, out_features=1, bias=True)\n",
              ")"
            ]
          },
          "metadata": {},
          "execution_count": 81
        }
      ],
      "source": [
        "model = SentimentAnalysisModel(dataset.x)\n",
        "model"
      ]
    },
    {
      "cell_type": "code",
      "execution_count": 82,
      "metadata": {
        "id": "rWV5CTtsz-oM",
        "outputId": "1f93f674-b6d0-4dbb-c6fd-ba454c2f4ed8",
        "colab": {
          "base_uri": "https://localhost:8080/"
        }
      },
      "outputs": [
        {
          "output_type": "stream",
          "name": "stdout",
          "text": [
            "The model has 101 trainable parameters\n"
          ]
        }
      ],
      "source": [
        "def count_parameters(model):\n",
        "    return sum(p.numel() for p in model.parameters() if p.requires_grad)\n",
        "\n",
        "print(f'The model has {count_parameters(model):,} trainable parameters')"
      ]
    },
    {
      "cell_type": "markdown",
      "metadata": {
        "id": "oygE8fm9z-oN"
      },
      "source": [
        "#### Pytorch Data loader class for dataset batching"
      ]
    },
    {
      "cell_type": "code",
      "execution_count": 83,
      "metadata": {
        "id": "6fP4gGt2z-oN"
      },
      "outputs": [],
      "source": [
        "# create data loader\n",
        "BATCH_SIZE = 64\n",
        "train_loader = DataLoader(train, batch_size=BATCH_SIZE, shuffle=True)\n",
        "test_loader= DataLoader(test, batch_size=BATCH_SIZE)"
      ]
    },
    {
      "cell_type": "markdown",
      "metadata": {
        "id": "Vnv5xugiz-oN"
      },
      "source": [
        "#### Training the model"
      ]
    },
    {
      "cell_type": "code",
      "execution_count": 84,
      "metadata": {
        "id": "jyYYXZAUz-oN"
      },
      "outputs": [],
      "source": [
        "# Construct our loss function and an Optimizer. The call to model.parameters()\n",
        "# in the SGD constructor will contain the learnable parameters of the two\n",
        "# nn.Linear modules which are members of the model.\n",
        "from torch import optim\n",
        "criterion = nn.BCELoss()\n",
        "optimizer = optim.SGD(model.parameters(), lr=1e-1)"
      ]
    },
    {
      "cell_type": "markdown",
      "metadata": {
        "id": "lWtJtTaaz-oN"
      },
      "source": [
        "<div style=\"padding:8px 0 8px 15px;border-left:3px solid #03befc;background-color:#F3F3F3;color:#424242;\">\n",
        "\n",
        "- 🎯 **Goal:** Create the training loop: for each epoch, do the forward pass, compute the loss and do the backward propagation.\n",
        "- 💻 **API:** Check the official API for the [training process](https://pytorch.org/tutorials/beginner/blitz/cifar10_tutorial.html#train-the-network).\n",
        "\n",
        "</div>"
      ]
    },
    {
      "cell_type": "code",
      "execution_count": 85,
      "metadata": {
        "id": "j9TfH2XBz-oN",
        "outputId": "75e1c925-ab3a-4b1f-a8b5-8d85aca17628",
        "colab": {
          "base_uri": "https://localhost:8080/"
        }
      },
      "outputs": [
        {
          "output_type": "stream",
          "name": "stdout",
          "text": [
            "Epoch 1 | Loss: 0.6636\n",
            "Epoch 2 | Loss: 0.6268\n",
            "Epoch 3 | Loss: 0.6048\n",
            "Epoch 4 | Loss: 0.5895\n",
            "Epoch 5 | Loss: 0.5769\n",
            "Epoch 6 | Loss: 0.5665\n",
            "Epoch 7 | Loss: 0.5576\n",
            "Epoch 8 | Loss: 0.5506\n",
            "Epoch 9 | Loss: 0.5443\n",
            "Epoch 10 | Loss: 0.5385\n",
            "Epoch 11 | Loss: 0.5334\n",
            "Epoch 12 | Loss: 0.5293\n",
            "Epoch 13 | Loss: 0.5249\n",
            "Epoch 14 | Loss: 0.5212\n",
            "Epoch 15 | Loss: 0.5177\n",
            "Epoch 16 | Loss: 0.5142\n",
            "Epoch 17 | Loss: 0.5119\n",
            "Epoch 18 | Loss: 0.5088\n",
            "Epoch 19 | Loss: 0.5066\n",
            "Epoch 20 | Loss: 0.5044\n",
            "Epoch 21 | Loss: 0.5022\n",
            "Epoch 22 | Loss: 0.5003\n",
            "Epoch 23 | Loss: 0.4981\n",
            "Epoch 24 | Loss: 0.4964\n",
            "Epoch 25 | Loss: 0.4948\n",
            "Epoch 26 | Loss: 0.4932\n",
            "Epoch 27 | Loss: 0.4915\n",
            "Epoch 28 | Loss: 0.4900\n",
            "Epoch 29 | Loss: 0.4887\n",
            "Epoch 30 | Loss: 0.4876\n",
            "Epoch 31 | Loss: 0.4860\n",
            "Epoch 32 | Loss: 0.4848\n",
            "Epoch 33 | Loss: 0.4837\n",
            "Epoch 34 | Loss: 0.4825\n",
            "Epoch 35 | Loss: 0.4812\n",
            "Epoch 36 | Loss: 0.4804\n",
            "Epoch 37 | Loss: 0.4793\n",
            "Epoch 38 | Loss: 0.4784\n",
            "Epoch 39 | Loss: 0.4774\n",
            "Epoch 40 | Loss: 0.4766\n",
            "Epoch 41 | Loss: 0.4756\n",
            "Epoch 42 | Loss: 0.4752\n",
            "Epoch 43 | Loss: 0.4742\n",
            "Epoch 44 | Loss: 0.4736\n",
            "Epoch 45 | Loss: 0.4728\n",
            "Epoch 46 | Loss: 0.4718\n",
            "Epoch 47 | Loss: 0.4714\n",
            "Epoch 48 | Loss: 0.4703\n",
            "Epoch 49 | Loss: 0.4697\n",
            "Epoch 50 | Loss: 0.4691\n"
          ]
        }
      ],
      "source": [
        "# Training loop\n",
        "model.train()\n",
        "for epoch in range(50):\n",
        "    epoch_loss = 0\n",
        "    for i, data in enumerate(train_loader, 0):\n",
        "        # get the inputs\n",
        "        inputs, labels = data\n",
        "\n",
        "        # Forward pass: Compute predicted y by passing x to the model\n",
        "        y_pred = model(inputs, labels.float())\n",
        "\n",
        "        # Compute loss\n",
        "        loss = criterion(torch.squeeze(y_pred), labels.float())\n",
        "        epoch_loss += loss\n",
        "\n",
        "        # Zero gradients, perform a backward pass, and update the weights.\n",
        "        optimizer.zero_grad()\n",
        "        loss.backward()\n",
        "        optimizer.step()\n",
        "\n",
        "    print(f'Epoch {epoch + 1} | Loss: {(epoch_loss / len(train_loader)):.4f}')"
      ]
    },
    {
      "cell_type": "markdown",
      "metadata": {
        "id": "BiCPurllz-oN"
      },
      "source": [
        "#### Inference on the test set"
      ]
    },
    {
      "cell_type": "markdown",
      "metadata": {
        "id": "ShIosY9Dz-oN"
      },
      "source": [
        "\n",
        "<div style=\"padding:8px 0 8px 15px;border-left:3px solid #03befc;background-color:#F3F3F3;color:#424242;\">\n",
        "\n",
        "- 🎯 **Goal:** Evaluate your model on the test set: for each batch of data, do the forward pass and compute the loss and the accuracy score.\n",
        "- 💻 **API:** Check the official API for the [testing process](https://pytorch.org/tutorials/beginner/blitz/cifar10_tutorial.html#test-the-network-on-the-test-data).\n",
        "\n",
        "</div>"
      ]
    },
    {
      "cell_type": "code",
      "execution_count": 86,
      "metadata": {
        "id": "zAqBNZp0z-oN",
        "outputId": "87e3bf23-448f-4539-d69d-54756bd514dd",
        "colab": {
          "base_uri": "https://localhost:8080/"
        }
      },
      "outputs": [
        {
          "output_type": "stream",
          "name": "stdout",
          "text": [
            "Test Acc: 78.86%\n"
          ]
        }
      ],
      "source": [
        "batch_loss = 0\n",
        "batch_acc = 0\n",
        "\n",
        "model.eval()\n",
        "for i, data in enumerate(test_loader, 0):\n",
        "    # get the inputs\n",
        "    inputs, labels = data\n",
        "\n",
        "    # run forward pass\n",
        "    predictions = model(inputs, labels.float())\n",
        "\n",
        "    # Compute and print loss\n",
        "    predictions = torch.squeeze(predictions)\n",
        "    test_loss = criterion(predictions, labels.float())\n",
        "    predictions = torch.tensor([1. if i > 0.5 else 0. for i in predictions])\n",
        "\n",
        "    acc = BinaryAccuracy()\n",
        "    acc = acc(labels, predictions)\n",
        "\n",
        "    batch_loss += test_loss.item()\n",
        "    batch_acc += acc.item()\n",
        "\n",
        "test_loss = batch_loss / len(test_loader)\n",
        "test_acc = batch_acc / len(test_loader)\n",
        "\n",
        "print(f'Test Acc: {test_acc*100:.2f}%')"
      ]
    },
    {
      "cell_type": "markdown",
      "metadata": {
        "id": "-pajLHwSz-oO"
      },
      "source": [
        "<div style=\"padding:8px 0 8px 15px;border-left:3px solid gray;background-color:#F3F3F3;color:#424242;\">\n",
        "\n",
        "#### Extra quiz:\n",
        "Play around with different settings (e.g. learning rate, batch size, epochs) and different architectures. Additionally try different pooling methods. Think how your design choices affect model performance on both train and test sets.\n",
        "\n",
        "</div>"
      ]
    },
    {
      "cell_type": "markdown",
      "metadata": {
        "id": "MaVbnfeyz-oO"
      },
      "source": [
        "### 🎉 Congrats! You finished your first exercise session!\n",
        "\n",
        "Awesome work! See you next week! 👋"
      ]
    }
  ],
  "metadata": {
    "kernelspec": {
      "display_name": "Python 3",
      "name": "python3"
    },
    "language_info": {
      "codemirror_mode": {
        "name": "ipython",
        "version": 3
      },
      "file_extension": ".py",
      "mimetype": "text/x-python",
      "name": "python",
      "nbconvert_exporter": "python",
      "pygments_lexer": "ipython3",
      "version": "3.11.8"
    },
    "colab": {
      "provenance": [],
      "toc_visible": true,
      "gpuType": "T4",
      "include_colab_link": true
    },
    "accelerator": "GPU"
  },
  "nbformat": 4,
  "nbformat_minor": 0
}